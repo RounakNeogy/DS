{
 "cells": [
  {
   "cell_type": "markdown",
   "id": "438cd656",
   "metadata": {},
   "source": [
    "# Iteration protocol"
   ]
  },
  {
   "cell_type": "code",
   "execution_count": 1,
   "id": "1673dbd9",
   "metadata": {},
   "outputs": [],
   "source": [
    "x=[1,2,3,4]"
   ]
  },
  {
   "cell_type": "code",
   "execution_count": 2,
   "id": "0042bfd0",
   "metadata": {},
   "outputs": [],
   "source": [
    "x_iter=iter(x)    #return the iterator"
   ]
  },
  {
   "cell_type": "code",
   "execution_count": 3,
   "id": "ec234e02",
   "metadata": {},
   "outputs": [
    {
     "data": {
      "text/plain": [
       "<list_iterator at 0x6966b80>"
      ]
     },
     "execution_count": 3,
     "metadata": {},
     "output_type": "execute_result"
    }
   ],
   "source": [
    "x_iter"
   ]
  },
  {
   "cell_type": "code",
   "execution_count": 9,
   "id": "99f197b4",
   "metadata": {},
   "outputs": [
    {
     "ename": "StopIteration",
     "evalue": "",
     "output_type": "error",
     "traceback": [
      "\u001b[1;31m---------------------------------------------------------------------------\u001b[0m",
      "\u001b[1;31mStopIteration\u001b[0m                             Traceback (most recent call last)",
      "\u001b[1;32m<ipython-input-9-41f77c9aa5e7>\u001b[0m in \u001b[0;36m<module>\u001b[1;34m\u001b[0m\n\u001b[1;32m----> 1\u001b[1;33m \u001b[0mnext\u001b[0m\u001b[1;33m(\u001b[0m\u001b[0mx_iter\u001b[0m\u001b[1;33m)\u001b[0m                       \u001b[1;31m#when it reaches the end of the list the iteration stops\u001b[0m\u001b[1;33m\u001b[0m\u001b[1;33m\u001b[0m\u001b[0m\n\u001b[0m",
      "\u001b[1;31mStopIteration\u001b[0m: "
     ]
    }
   ],
   "source": [
    "next(x_iter)                       #when it reaches the end of the list the iteration stops"
   ]
  },
  {
   "cell_type": "code",
   "execution_count": 13,
   "id": "3c9e678b",
   "metadata": {},
   "outputs": [],
   "source": [
    "#it is both iterable and iterator\n",
    "class yrange:\n",
    "    # n is a number upto which I want to range \n",
    "    def __init__(self,n):\n",
    "        self.i=0\n",
    "        self.n=n\n",
    "    # this method makes our class iterable\n",
    "    def __iter__(self):          #makes the class iterable and creates the iterator\n",
    "        return self\n",
    "    # this method should be implemented by the iterator\n",
    "    def __next__(self):\n",
    "        if self.i<self.n:\n",
    "            temp=self.i\n",
    "            self.i+=1\n",
    "            return temp\n",
    "        else:\n",
    "            raise StopIteration \n",
    "    "
   ]
  },
  {
   "cell_type": "code",
   "execution_count": 14,
   "id": "36d60b07",
   "metadata": {},
   "outputs": [
    {
     "name": "stdout",
     "output_type": "stream",
     "text": [
      "0\n",
      "1\n",
      "2\n",
      "3\n",
      "4\n"
     ]
    }
   ],
   "source": [
    "for i in yrange(5):\n",
    "    print(i)"
   ]
  },
  {
   "cell_type": "code",
   "execution_count": 33,
   "id": "2d794952",
   "metadata": {},
   "outputs": [],
   "source": [
    "y=yrange(10)"
   ]
  },
  {
   "cell_type": "code",
   "execution_count": 34,
   "id": "922ad14a",
   "metadata": {},
   "outputs": [
    {
     "data": {
      "text/plain": [
       "[0, 1, 2, 3, 4, 5, 6, 7, 8, 9]"
      ]
     },
     "execution_count": 34,
     "metadata": {},
     "output_type": "execute_result"
    }
   ],
   "source": [
    "list(y)               #we can do this only one time because the iterator and the iterable classes are the same"
   ]
  },
  {
   "cell_type": "code",
   "execution_count": 35,
   "id": "674a1654",
   "metadata": {},
   "outputs": [
    {
     "data": {
      "text/plain": [
       "[]"
      ]
     },
     "execution_count": 35,
     "metadata": {},
     "output_type": "execute_result"
    }
   ],
   "source": [
    "list(y)              "
   ]
  },
  {
   "cell_type": "code",
   "execution_count": null,
   "id": "e336abf0",
   "metadata": {},
   "outputs": [],
   "source": []
  },
  {
   "cell_type": "code",
   "execution_count": 16,
   "id": "1e3371e1",
   "metadata": {},
   "outputs": [],
   "source": [
    "y_iter=iter(y)"
   ]
  },
  {
   "cell_type": "code",
   "execution_count": 17,
   "id": "4f860e4d",
   "metadata": {},
   "outputs": [
    {
     "name": "stdout",
     "output_type": "stream",
     "text": [
      "<__main__.yrange object at 0x069666B8>\n"
     ]
    }
   ],
   "source": [
    "print(y_iter)"
   ]
  },
  {
   "cell_type": "code",
   "execution_count": 23,
   "id": "760e118a",
   "metadata": {},
   "outputs": [
    {
     "ename": "StopIteration",
     "evalue": "",
     "output_type": "error",
     "traceback": [
      "\u001b[1;31m---------------------------------------------------------------------------\u001b[0m",
      "\u001b[1;31mStopIteration\u001b[0m                             Traceback (most recent call last)",
      "\u001b[1;32m<ipython-input-23-d016b2c14733>\u001b[0m in \u001b[0;36m<module>\u001b[1;34m\u001b[0m\n\u001b[1;32m----> 1\u001b[1;33m \u001b[0mnext\u001b[0m\u001b[1;33m(\u001b[0m\u001b[0my_iter\u001b[0m\u001b[1;33m)\u001b[0m\u001b[1;33m\u001b[0m\u001b[1;33m\u001b[0m\u001b[0m\n\u001b[0m",
      "\u001b[1;32m<ipython-input-13-64ed9e7f7702>\u001b[0m in \u001b[0;36m__next__\u001b[1;34m(self)\u001b[0m\n\u001b[0;32m     15\u001b[0m             \u001b[1;32mreturn\u001b[0m \u001b[0mtemp\u001b[0m\u001b[1;33m\u001b[0m\u001b[1;33m\u001b[0m\u001b[0m\n\u001b[0;32m     16\u001b[0m         \u001b[1;32melse\u001b[0m\u001b[1;33m:\u001b[0m\u001b[1;33m\u001b[0m\u001b[1;33m\u001b[0m\u001b[0m\n\u001b[1;32m---> 17\u001b[1;33m             \u001b[1;32mraise\u001b[0m \u001b[0mStopIteration\u001b[0m\u001b[1;33m\u001b[0m\u001b[1;33m\u001b[0m\u001b[0m\n\u001b[0m\u001b[0;32m     18\u001b[0m \u001b[1;33m\u001b[0m\u001b[0m\n",
      "\u001b[1;31mStopIteration\u001b[0m: "
     ]
    }
   ],
   "source": [
    "next(y_iter)"
   ]
  },
  {
   "cell_type": "markdown",
   "id": "f5a84378",
   "metadata": {},
   "source": [
    "but we should implement iterator and iterable in different classes"
   ]
  },
  {
   "cell_type": "code",
   "execution_count": 26,
   "id": "2d4c7ac5",
   "metadata": {},
   "outputs": [],
   "source": [
    "#iterable class\n",
    "class zrange:\n",
    "    def __init__(self,n):\n",
    "        self.n=n\n",
    "    def __iter__(self):             #makes the class iterable\n",
    "        return zrange_iter(self.n)\n",
    "#iterator class\n",
    "class zrange_iter:\n",
    "    def __init__(self,n):\n",
    "        self.i=0\n",
    "        self.n=n\n",
    "    def __iter__(self):         #returns the iterator\n",
    "        return self\n",
    "    def __next__(self):\n",
    "        if self.i<self.n:\n",
    "            temp=self.i\n",
    "            self.i+=1\n",
    "            return temp\n",
    "        else:\n",
    "            raise StopIteration()\n",
    "        "
   ]
  },
  {
   "cell_type": "code",
   "execution_count": 27,
   "id": "89c999fd",
   "metadata": {},
   "outputs": [
    {
     "name": "stdout",
     "output_type": "stream",
     "text": [
      "0\n",
      "1\n",
      "4\n",
      "9\n",
      "16\n"
     ]
    }
   ],
   "source": [
    "for i in zrange(5):\n",
    "    print(i**2)"
   ]
  },
  {
   "cell_type": "code",
   "execution_count": 30,
   "id": "8c40c81a",
   "metadata": {},
   "outputs": [],
   "source": [
    "z=zrange(10)"
   ]
  },
  {
   "cell_type": "code",
   "execution_count": 31,
   "id": "65ca23d8",
   "metadata": {},
   "outputs": [
    {
     "data": {
      "text/plain": [
       "[0, 1, 2, 3, 4, 5, 6, 7, 8, 9]"
      ]
     },
     "execution_count": 31,
     "metadata": {},
     "output_type": "execute_result"
    }
   ],
   "source": [
    "list(z)  "
   ]
  },
  {
   "cell_type": "code",
   "execution_count": 32,
   "id": "5ff07966",
   "metadata": {},
   "outputs": [
    {
     "data": {
      "text/plain": [
       "[0, 1, 2, 3, 4, 5, 6, 7, 8, 9]"
      ]
     },
     "execution_count": 32,
     "metadata": {},
     "output_type": "execute_result"
    }
   ],
   "source": [
    "list(z)                # we can do this two or more times because the iterator and iterable classes are different"
   ]
  },
  {
   "cell_type": "code",
   "execution_count": 37,
   "id": "b35a4fa7",
   "metadata": {},
   "outputs": [
    {
     "name": "stdout",
     "output_type": "stream",
     "text": [
      "Hello\n",
      "hello world \n",
      "hello rishika\n"
     ]
    }
   ],
   "source": [
    "#iteration in files\n",
    "for lines in open(\"hello.txt\",\"r\"):   #it gives each lines\n",
    "    print(lines,end='')"
   ]
  },
  {
   "cell_type": "code",
   "execution_count": 39,
   "id": "091a7d3c",
   "metadata": {},
   "outputs": [
    {
     "data": {
      "text/plain": [
       "'a.b.c'"
      ]
     },
     "execution_count": 39,
     "metadata": {},
     "output_type": "execute_result"
    }
   ],
   "source": [
    "\".\".join(['a','b','c'])  #it tales the iterable object and join them with ."
   ]
  },
  {
   "cell_type": "code",
   "execution_count": 46,
   "id": "6ba783ee",
   "metadata": {},
   "outputs": [],
   "source": [
    "d={\n",
    "    \"name\":\"rounak\",\n",
    "    \"roll no\": 29,\n",
    "    \"dept\": \"CSE\"\n",
    "}"
   ]
  },
  {
   "cell_type": "code",
   "execution_count": 47,
   "id": "a054764a",
   "metadata": {},
   "outputs": [
    {
     "data": {
      "text/plain": [
       "'name.roll no.dept'"
      ]
     },
     "execution_count": 47,
     "metadata": {},
     "output_type": "execute_result"
    }
   ],
   "source": [
    "\".\".join(d)\n"
   ]
  },
  {
   "cell_type": "code",
   "execution_count": 48,
   "id": "bfc715b5",
   "metadata": {},
   "outputs": [],
   "source": [
    "a=[1,2,3,4]"
   ]
  },
  {
   "cell_type": "code",
   "execution_count": 50,
   "id": "f880b5f8",
   "metadata": {},
   "outputs": [
    {
     "data": {
      "text/plain": [
       "10"
      ]
     },
     "execution_count": 50,
     "metadata": {},
     "output_type": "execute_result"
    }
   ],
   "source": [
    "sum(a)           #it sum the iterator"
   ]
  },
  {
   "cell_type": "code",
   "execution_count": 51,
   "id": "0088b8b6",
   "metadata": {},
   "outputs": [],
   "source": [
    "d={\n",
    "    1:\"A\",\n",
    "    2:\"J\",\n",
    "    4:\"i\"\n",
    "}"
   ]
  },
  {
   "cell_type": "code",
   "execution_count": 54,
   "id": "94be35fa",
   "metadata": {},
   "outputs": [
    {
     "data": {
      "text/plain": [
       "7"
      ]
     },
     "execution_count": 54,
     "metadata": {},
     "output_type": "execute_result"
    }
   ],
   "source": [
    "sum(d)       #it sums the keys of the dictionary becuse they are iterated"
   ]
  },
  {
   "cell_type": "markdown",
   "id": "24c20ed6",
   "metadata": {},
   "source": [
    "# Generators\n",
    "simple function or expression used to create iterator"
   ]
  },
  {
   "cell_type": "code",
   "execution_count": 55,
   "id": "3dee5f24",
   "metadata": {},
   "outputs": [],
   "source": [
    "class fib:\n",
    "    def __init__(self):\n",
    "        self.prev=0\n",
    "        self.curr=1\n",
    "    def __iter__(self):\n",
    "        return self\n",
    "    def __next__(self):\n",
    "        temp=self.curr\n",
    "        self.curr+=self.prev\n",
    "        self.prev=temp\n",
    "        return temp"
   ]
  },
  {
   "cell_type": "code",
   "execution_count": 56,
   "id": "18569b00",
   "metadata": {},
   "outputs": [],
   "source": [
    "f=fib()"
   ]
  },
  {
   "cell_type": "code",
   "execution_count": 58,
   "id": "be63fb68",
   "metadata": {},
   "outputs": [],
   "source": [
    "f_iter=iter(f)"
   ]
  },
  {
   "cell_type": "code",
   "execution_count": 68,
   "id": "d26b8b1c",
   "metadata": {},
   "outputs": [
    {
     "data": {
      "text/plain": [
       "55"
      ]
     },
     "execution_count": 68,
     "metadata": {},
     "output_type": "execute_result"
    }
   ],
   "source": [
    "next(f_iter)"
   ]
  },
  {
   "cell_type": "code",
   "execution_count": 69,
   "id": "89d02436",
   "metadata": {},
   "outputs": [],
   "source": [
    "#we can shorten this code to make a generator which will do the same job"
   ]
  },
  {
   "cell_type": "code",
   "execution_count": 74,
   "id": "0e488354",
   "metadata": {},
   "outputs": [],
   "source": [
    "#generator\n",
    "def fib():\n",
    "    prev,curr=0,1\n",
    "    while True:\n",
    "        yield curr   #yeild function creates generator\n",
    "        prev,curr=curr,prev+curr\n",
    "    "
   ]
  },
  {
   "cell_type": "code",
   "execution_count": 75,
   "id": "f5de14ad",
   "metadata": {},
   "outputs": [],
   "source": [
    "gen=fib()"
   ]
  },
  {
   "cell_type": "code",
   "execution_count": 81,
   "id": "0831562e",
   "metadata": {},
   "outputs": [
    {
     "data": {
      "text/plain": [
       "8"
      ]
     },
     "execution_count": 81,
     "metadata": {},
     "output_type": "execute_result"
    }
   ],
   "source": [
    "next(gen)"
   ]
  },
  {
   "cell_type": "markdown",
   "id": "fe0591c4",
   "metadata": {},
   "source": [
    "![](generators.jpeg)"
   ]
  },
  {
   "cell_type": "markdown",
   "id": "33ce9dd8",
   "metadata": {},
   "source": [
    "- generator expression"
   ]
  },
  {
   "cell_type": "code",
   "execution_count": 82,
   "id": "ec2b79fa",
   "metadata": {},
   "outputs": [],
   "source": [
    "gen=(x**2 for x in range(1,11))"
   ]
  },
  {
   "cell_type": "code",
   "execution_count": 86,
   "id": "b2a904ac",
   "metadata": {},
   "outputs": [
    {
     "data": {
      "text/plain": [
       "16"
      ]
     },
     "execution_count": 86,
     "metadata": {},
     "output_type": "execute_result"
    }
   ],
   "source": [
    "next(gen)"
   ]
  },
  {
   "cell_type": "code",
   "execution_count": null,
   "id": "16b8c98d",
   "metadata": {},
   "outputs": [],
   "source": []
  }
 ],
 "metadata": {
  "kernelspec": {
   "display_name": "Python 3",
   "language": "python",
   "name": "python3"
  },
  "language_info": {
   "codemirror_mode": {
    "name": "ipython",
    "version": 3
   },
   "file_extension": ".py",
   "mimetype": "text/x-python",
   "name": "python",
   "nbconvert_exporter": "python",
   "pygments_lexer": "ipython3",
   "version": "3.8.3"
  }
 },
 "nbformat": 4,
 "nbformat_minor": 5
}
