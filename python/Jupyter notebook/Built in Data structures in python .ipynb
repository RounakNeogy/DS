{
 "cells": [
  {
   "cell_type": "markdown",
   "id": "f15a8897",
   "metadata": {},
   "source": [
    "# Strings\n",
    "- Formated strings\n",
    "- strip\n",
    "- split\n",
    "- replace\n",
    "- count"
   ]
  },
  {
   "cell_type": "code",
   "execution_count": 1,
   "id": "ac93e9b4",
   "metadata": {},
   "outputs": [],
   "source": [
    "name=\"Rounak\"\n",
    "age=19\n",
    "year=2"
   ]
  },
  {
   "cell_type": "code",
   "execution_count": 2,
   "id": "8a57d64c",
   "metadata": {},
   "outputs": [
    {
     "name": "stdout",
     "output_type": "stream",
     "text": [
      "I am Rounak. I am 19 years old. I am in 2 year\n"
     ]
    }
   ],
   "source": [
    "print(\"I am \"+name+\". I am \"+ str(age)+\" years old. I am in \"+ str(year)+\" year\")"
   ]
  },
  {
   "cell_type": "code",
   "execution_count": 3,
   "id": "12fed55e",
   "metadata": {},
   "outputs": [
    {
     "name": "stdout",
     "output_type": "stream",
     "text": [
      "I am Rounak. I am 19 years old. I am in 2 year\n"
     ]
    }
   ],
   "source": [
    "print(\"I am %s. I am %d years old. I am in %d year\"%(name,age,year))"
   ]
  },
  {
   "cell_type": "code",
   "execution_count": 4,
   "id": "837668c2",
   "metadata": {},
   "outputs": [
    {
     "name": "stdout",
     "output_type": "stream",
     "text": [
      "I am Rounak. I am 19 years old. I am in 2 year\n"
     ]
    }
   ],
   "source": [
    "print(\"I am {}. I am {} years old. I am in {} year\".format(name,age,year))"
   ]
  },
  {
   "cell_type": "markdown",
   "id": "0abf7b27",
   "metadata": {},
   "source": [
    "## f-string or formated string"
   ]
  },
  {
   "cell_type": "code",
   "execution_count": 5,
   "id": "98f9e6b1",
   "metadata": {},
   "outputs": [
    {
     "name": "stdout",
     "output_type": "stream",
     "text": [
      "I am Rounak. I am 19 years old. I am in 2 year\n"
     ]
    }
   ],
   "source": [
    "print(f\"I am {name}. I am {age} years old. I am in {year} year\")"
   ]
  },
  {
   "cell_type": "markdown",
   "id": "5e6776ad",
   "metadata": {},
   "source": [
    "## strip\n"
   ]
  },
  {
   "cell_type": "code",
   "execution_count": 6,
   "id": "2782e0b1",
   "metadata": {},
   "outputs": [],
   "source": [
    "st=\"   Good Morning    \""
   ]
  },
  {
   "cell_type": "code",
   "execution_count": 7,
   "id": "29db7788",
   "metadata": {},
   "outputs": [
    {
     "data": {
      "text/plain": [
       "'   Good Morning    '"
      ]
     },
     "execution_count": 7,
     "metadata": {},
     "output_type": "execute_result"
    }
   ],
   "source": [
    "st"
   ]
  },
  {
   "cell_type": "code",
   "execution_count": 8,
   "id": "0294f969",
   "metadata": {},
   "outputs": [
    {
     "data": {
      "text/plain": [
       "'   Good Morning'"
      ]
     },
     "execution_count": 8,
     "metadata": {},
     "output_type": "execute_result"
    }
   ],
   "source": [
    "st.rstrip()"
   ]
  },
  {
   "cell_type": "code",
   "execution_count": 9,
   "id": "b82f95ec",
   "metadata": {},
   "outputs": [
    {
     "data": {
      "text/plain": [
       "'Good Morning    '"
      ]
     },
     "execution_count": 9,
     "metadata": {},
     "output_type": "execute_result"
    }
   ],
   "source": [
    "st.lstrip()"
   ]
  },
  {
   "cell_type": "code",
   "execution_count": 10,
   "id": "846fe04a",
   "metadata": {},
   "outputs": [
    {
     "data": {
      "text/plain": [
       "'Good Morning'"
      ]
     },
     "execution_count": 10,
     "metadata": {},
     "output_type": "execute_result"
    }
   ],
   "source": [
    "st.strip()"
   ]
  },
  {
   "cell_type": "code",
   "execution_count": 11,
   "id": "ce98e028",
   "metadata": {},
   "outputs": [
    {
     "name": "stdout",
     "output_type": "stream",
     "text": [
      "Enter yes or no yes\n"
     ]
    }
   ],
   "source": [
    "response=input(\"Enter yes or no\")"
   ]
  },
  {
   "cell_type": "code",
   "execution_count": 12,
   "id": "47734833",
   "metadata": {},
   "outputs": [
    {
     "data": {
      "text/plain": [
       "False"
      ]
     },
     "execution_count": 12,
     "metadata": {},
     "output_type": "execute_result"
    }
   ],
   "source": [
    "response==\"yes\""
   ]
  },
  {
   "cell_type": "code",
   "execution_count": 13,
   "id": "c385981c",
   "metadata": {},
   "outputs": [
    {
     "data": {
      "text/plain": [
       "True"
      ]
     },
     "execution_count": 13,
     "metadata": {},
     "output_type": "execute_result"
    }
   ],
   "source": [
    "response.strip()==\"yes\""
   ]
  },
  {
   "cell_type": "markdown",
   "id": "d57d8a82",
   "metadata": {},
   "source": [
    "## split"
   ]
  },
  {
   "cell_type": "code",
   "execution_count": 14,
   "id": "75ce3c51",
   "metadata": {},
   "outputs": [],
   "source": [
    "st=\"My name is Rounak\""
   ]
  },
  {
   "cell_type": "code",
   "execution_count": 16,
   "id": "6c80c228",
   "metadata": {},
   "outputs": [
    {
     "data": {
      "text/plain": [
       "['My', 'name', 'is', 'Rounak']"
      ]
     },
     "execution_count": 16,
     "metadata": {},
     "output_type": "execute_result"
    }
   ],
   "source": [
    "st.split()"
   ]
  },
  {
   "cell_type": "markdown",
   "id": "cbe16726",
   "metadata": {},
   "source": [
    "## replace"
   ]
  },
  {
   "cell_type": "code",
   "execution_count": 17,
   "id": "bab3ac78",
   "metadata": {},
   "outputs": [
    {
     "data": {
      "text/plain": [
       "'My name is Rishika'"
      ]
     },
     "execution_count": 17,
     "metadata": {},
     "output_type": "execute_result"
    }
   ],
   "source": [
    "st.replace(\"Rounak\",\"Rishika\")"
   ]
  },
  {
   "cell_type": "code",
   "execution_count": 19,
   "id": "206cfad4",
   "metadata": {},
   "outputs": [],
   "source": [
    "st1=\"aaaaazzzzz\""
   ]
  },
  {
   "cell_type": "code",
   "execution_count": 21,
   "id": "8beb7d15",
   "metadata": {},
   "outputs": [
    {
     "data": {
      "text/plain": [
       "'bbbbbzzzzz'"
      ]
     },
     "execution_count": 21,
     "metadata": {},
     "output_type": "execute_result"
    }
   ],
   "source": [
    "st1.replace(\"a\",\"b\")"
   ]
  },
  {
   "cell_type": "markdown",
   "id": "47629024",
   "metadata": {},
   "source": [
    "## count"
   ]
  },
  {
   "cell_type": "code",
   "execution_count": 22,
   "id": "0163ba92",
   "metadata": {},
   "outputs": [
    {
     "data": {
      "text/plain": [
       "5"
      ]
     },
     "execution_count": 22,
     "metadata": {},
     "output_type": "execute_result"
    }
   ],
   "source": [
    "st1.count('a')"
   ]
  },
  {
   "cell_type": "code",
   "execution_count": 23,
   "id": "32aaaa0b",
   "metadata": {},
   "outputs": [
    {
     "data": {
      "text/plain": [
       "5"
      ]
     },
     "execution_count": 23,
     "metadata": {},
     "output_type": "execute_result"
    }
   ],
   "source": [
    "st1.count(\"z\")"
   ]
  },
  {
   "cell_type": "markdown",
   "id": "4186dcda",
   "metadata": {},
   "source": [
    "# Lists"
   ]
  },
  {
   "cell_type": "code",
   "execution_count": 24,
   "id": "d4c78dfd",
   "metadata": {},
   "outputs": [],
   "source": [
    "a=[1,2,3,4]"
   ]
  },
  {
   "cell_type": "code",
   "execution_count": 25,
   "id": "3f8a5732",
   "metadata": {},
   "outputs": [
    {
     "data": {
      "text/plain": [
       "[1, 2, 3, 4]"
      ]
     },
     "execution_count": 25,
     "metadata": {},
     "output_type": "execute_result"
    }
   ],
   "source": [
    "a"
   ]
  },
  {
   "cell_type": "code",
   "execution_count": 26,
   "id": "bef5e046",
   "metadata": {},
   "outputs": [
    {
     "data": {
      "text/plain": [
       "2"
      ]
     },
     "execution_count": 26,
     "metadata": {},
     "output_type": "execute_result"
    }
   ],
   "source": [
    "a[1]"
   ]
  },
  {
   "cell_type": "code",
   "execution_count": 27,
   "id": "6ae99dcd",
   "metadata": {},
   "outputs": [],
   "source": [
    "a=[\"Rounak\", 1,2.3,print] #can be heterogeneous but homogeneous is recomanded"
   ]
  },
  {
   "cell_type": "code",
   "execution_count": 28,
   "id": "b276a3f7",
   "metadata": {},
   "outputs": [
    {
     "data": {
      "text/plain": [
       "['Rounak', 1, 2.3, <function print>]"
      ]
     },
     "execution_count": 28,
     "metadata": {},
     "output_type": "execute_result"
    }
   ],
   "source": [
    "a"
   ]
  },
  {
   "cell_type": "code",
   "execution_count": 29,
   "id": "db56efe4",
   "metadata": {},
   "outputs": [
    {
     "name": "stdout",
     "output_type": "stream",
     "text": [
      "Neogy\n"
     ]
    }
   ],
   "source": [
    "a[3](\"Neogy\")"
   ]
  },
  {
   "cell_type": "code",
   "execution_count": 30,
   "id": "f415c6e0",
   "metadata": {},
   "outputs": [],
   "source": [
    "a=[1,2,3,4]"
   ]
  },
  {
   "cell_type": "code",
   "execution_count": 32,
   "id": "6531e623",
   "metadata": {},
   "outputs": [
    {
     "data": {
      "text/plain": [
       "4"
      ]
     },
     "execution_count": 32,
     "metadata": {},
     "output_type": "execute_result"
    }
   ],
   "source": [
    "len(a)"
   ]
  },
  {
   "cell_type": "code",
   "execution_count": 33,
   "id": "18810be9",
   "metadata": {},
   "outputs": [
    {
     "data": {
      "text/plain": [
       "[1, 2, 3, 4, 1, 2, 3, 4]"
      ]
     },
     "execution_count": 33,
     "metadata": {},
     "output_type": "execute_result"
    }
   ],
   "source": [
    "a+a"
   ]
  },
  {
   "cell_type": "code",
   "execution_count": 34,
   "id": "14385dce",
   "metadata": {},
   "outputs": [
    {
     "data": {
      "text/plain": [
       "[1, 2, 3, 4, 1, 2, 3, 4, 1, 2, 3, 4, 1, 2, 3, 4, 1, 2, 3, 4]"
      ]
     },
     "execution_count": 34,
     "metadata": {},
     "output_type": "execute_result"
    }
   ],
   "source": [
    "a*5"
   ]
  },
  {
   "cell_type": "code",
   "execution_count": 35,
   "id": "b4ce1e74",
   "metadata": {},
   "outputs": [
    {
     "data": {
      "text/plain": [
       "[1, 2, 3, 4]"
      ]
     },
     "execution_count": 35,
     "metadata": {},
     "output_type": "execute_result"
    }
   ],
   "source": [
    "a"
   ]
  },
  {
   "cell_type": "code",
   "execution_count": 36,
   "id": "c9fa0624",
   "metadata": {},
   "outputs": [
    {
     "data": {
      "text/plain": [
       "True"
      ]
     },
     "execution_count": 36,
     "metadata": {},
     "output_type": "execute_result"
    }
   ],
   "source": [
    "1 in a   #check if present"
   ]
  },
  {
   "cell_type": "code",
   "execution_count": 37,
   "id": "6e7791b7",
   "metadata": {},
   "outputs": [
    {
     "name": "stdout",
     "output_type": "stream",
     "text": [
      "1\n",
      "2\n",
      "3\n",
      "4\n"
     ]
    }
   ],
   "source": [
    "for i in a:\n",
    "    print(i)"
   ]
  },
  {
   "cell_type": "markdown",
   "id": "d463434d",
   "metadata": {},
   "source": [
    "### Backward indexing"
   ]
  },
  {
   "cell_type": "code",
   "execution_count": 39,
   "id": "864c1940",
   "metadata": {},
   "outputs": [],
   "source": [
    "a=[5,4,6,7]"
   ]
  },
  {
   "cell_type": "code",
   "execution_count": 40,
   "id": "16c4c833",
   "metadata": {},
   "outputs": [
    {
     "name": "stdout",
     "output_type": "stream",
     "text": [
      "7\n",
      "6\n",
      "4\n",
      "5\n"
     ]
    }
   ],
   "source": [
    "print(a[-1])\n",
    "print(a[-2])\n",
    "print(a[-3])\n",
    "print(a[-4])"
   ]
  },
  {
   "cell_type": "code",
   "execution_count": 41,
   "id": "f0164ae2",
   "metadata": {},
   "outputs": [],
   "source": [
    "a=\"Rounak\""
   ]
  },
  {
   "cell_type": "code",
   "execution_count": 43,
   "id": "e7391900",
   "metadata": {},
   "outputs": [
    {
     "data": {
      "text/plain": [
       "'k'"
      ]
     },
     "execution_count": 43,
     "metadata": {},
     "output_type": "execute_result"
    }
   ],
   "source": [
    "a[-1]"
   ]
  },
  {
   "cell_type": "code",
   "execution_count": 44,
   "id": "a4251ec8",
   "metadata": {},
   "outputs": [],
   "source": [
    "a=[1,2,3,4,5]"
   ]
  },
  {
   "cell_type": "code",
   "execution_count": 45,
   "id": "279d1545",
   "metadata": {},
   "outputs": [
    {
     "data": {
      "text/plain": [
       "[2, 3, 4]"
      ]
     },
     "execution_count": 45,
     "metadata": {},
     "output_type": "execute_result"
    }
   ],
   "source": [
    "a[1:4] # sublist"
   ]
  },
  {
   "cell_type": "code",
   "execution_count": 46,
   "id": "391f3825",
   "metadata": {},
   "outputs": [
    {
     "data": {
      "text/plain": [
       "[1, 3, 5]"
      ]
     },
     "execution_count": 46,
     "metadata": {},
     "output_type": "execute_result"
    }
   ],
   "source": [
    "a[0:5:2] # the last element determines the jump"
   ]
  },
  {
   "cell_type": "code",
   "execution_count": 47,
   "id": "7d4d8a6f",
   "metadata": {},
   "outputs": [
    {
     "data": {
      "text/plain": [
       "[5, 4, 3, 2, 1]"
      ]
     },
     "execution_count": 47,
     "metadata": {},
     "output_type": "execute_result"
    }
   ],
   "source": [
    "a[::-1] # the most elegant way to reverse a list"
   ]
  },
  {
   "cell_type": "code",
   "execution_count": 48,
   "id": "1ff896d8",
   "metadata": {},
   "outputs": [],
   "source": [
    "a=\"rounak\""
   ]
  },
  {
   "cell_type": "code",
   "execution_count": 49,
   "id": "f8c49022",
   "metadata": {},
   "outputs": [
    {
     "data": {
      "text/plain": [
       "'kanuor'"
      ]
     },
     "execution_count": 49,
     "metadata": {},
     "output_type": "execute_result"
    }
   ],
   "source": [
    "a[::-1]"
   ]
  },
  {
   "cell_type": "markdown",
   "id": "491fa0ac",
   "metadata": {},
   "source": [
    "- insert\n",
    "- append"
   ]
  },
  {
   "cell_type": "code",
   "execution_count": 50,
   "id": "691ea7eb",
   "metadata": {},
   "outputs": [],
   "source": [
    "a=[1,2,3,4]"
   ]
  },
  {
   "cell_type": "code",
   "execution_count": 52,
   "id": "5bd258cc",
   "metadata": {},
   "outputs": [],
   "source": [
    "a.insert(1,\"rounak\")  #first parameter is the index and the last is the value"
   ]
  },
  {
   "cell_type": "code",
   "execution_count": 53,
   "id": "85d1fd71",
   "metadata": {},
   "outputs": [
    {
     "data": {
      "text/plain": [
       "[1, 'rounak', 2, 3, 4]"
      ]
     },
     "execution_count": 53,
     "metadata": {},
     "output_type": "execute_result"
    }
   ],
   "source": [
    "a"
   ]
  },
  {
   "cell_type": "code",
   "execution_count": 54,
   "id": "23bb10b5",
   "metadata": {},
   "outputs": [],
   "source": [
    "a.append(\"neogy\")"
   ]
  },
  {
   "cell_type": "code",
   "execution_count": 55,
   "id": "f766787b",
   "metadata": {},
   "outputs": [
    {
     "data": {
      "text/plain": [
       "[1, 'rounak', 2, 3, 4, 'neogy']"
      ]
     },
     "execution_count": 55,
     "metadata": {},
     "output_type": "execute_result"
    }
   ],
   "source": [
    "a"
   ]
  },
  {
   "cell_type": "markdown",
   "id": "b2b45d3a",
   "metadata": {},
   "source": [
    "- del\n",
    "- pop\n",
    "- remove"
   ]
  },
  {
   "cell_type": "code",
   "execution_count": 56,
   "id": "161f79f8",
   "metadata": {},
   "outputs": [
    {
     "data": {
      "text/plain": [
       "'neogy'"
      ]
     },
     "execution_count": 56,
     "metadata": {},
     "output_type": "execute_result"
    }
   ],
   "source": [
    "a.pop()"
   ]
  },
  {
   "cell_type": "code",
   "execution_count": 57,
   "id": "3f458a8f",
   "metadata": {},
   "outputs": [
    {
     "data": {
      "text/plain": [
       "'rounak'"
      ]
     },
     "execution_count": 57,
     "metadata": {},
     "output_type": "execute_result"
    }
   ],
   "source": [
    "a.pop(1)   # pop function also takes the index"
   ]
  },
  {
   "cell_type": "code",
   "execution_count": 58,
   "id": "a7df0056",
   "metadata": {},
   "outputs": [],
   "source": [
    "a.remove(3)  # it take the value of the element to be removed"
   ]
  },
  {
   "cell_type": "code",
   "execution_count": 59,
   "id": "00658363",
   "metadata": {},
   "outputs": [
    {
     "data": {
      "text/plain": [
       "[1, 2, 4]"
      ]
     },
     "execution_count": 59,
     "metadata": {},
     "output_type": "execute_result"
    }
   ],
   "source": [
    "a"
   ]
  },
  {
   "cell_type": "code",
   "execution_count": 60,
   "id": "a0965fac",
   "metadata": {},
   "outputs": [],
   "source": [
    "a=[\"rounak\",\"neogy\",\"rishika\"]"
   ]
  },
  {
   "cell_type": "code",
   "execution_count": 61,
   "id": "7f9715e9",
   "metadata": {},
   "outputs": [],
   "source": [
    "del a[1]    "
   ]
  },
  {
   "cell_type": "code",
   "execution_count": 62,
   "id": "1aab9f64",
   "metadata": {},
   "outputs": [
    {
     "data": {
      "text/plain": [
       "['rounak', 'rishika']"
      ]
     },
     "execution_count": 62,
     "metadata": {},
     "output_type": "execute_result"
    }
   ],
   "source": [
    "a"
   ]
  },
  {
   "cell_type": "code",
   "execution_count": 63,
   "id": "d4118883",
   "metadata": {},
   "outputs": [],
   "source": [
    "del a   # deletes the entire list"
   ]
  },
  {
   "cell_type": "code",
   "execution_count": 64,
   "id": "ff517694",
   "metadata": {},
   "outputs": [
    {
     "ename": "NameError",
     "evalue": "name 'a' is not defined",
     "output_type": "error",
     "traceback": [
      "\u001b[1;31m---------------------------------------------------------------------------\u001b[0m",
      "\u001b[1;31mNameError\u001b[0m                                 Traceback (most recent call last)",
      "\u001b[1;32m<ipython-input-64-3f786850e387>\u001b[0m in \u001b[0;36m<module>\u001b[1;34m\u001b[0m\n\u001b[1;32m----> 1\u001b[1;33m \u001b[0ma\u001b[0m\u001b[1;33m\u001b[0m\u001b[1;33m\u001b[0m\u001b[0m\n\u001b[0m",
      "\u001b[1;31mNameError\u001b[0m: name 'a' is not defined"
     ]
    }
   ],
   "source": [
    "a"
   ]
  },
  {
   "cell_type": "markdown",
   "id": "eb9d0d09",
   "metadata": {},
   "source": [
    "- sorting\n",
    "- reverse"
   ]
  },
  {
   "cell_type": "code",
   "execution_count": 65,
   "id": "a433d75a",
   "metadata": {},
   "outputs": [
    {
     "data": {
      "text/plain": [
       "[1, 2, 3, 5, 7, 8]"
      ]
     },
     "execution_count": 65,
     "metadata": {},
     "output_type": "execute_result"
    }
   ],
   "source": [
    "a=[1,5,2,7,3,8]\n",
    "sorted(a) #returns the sorted list"
   ]
  },
  {
   "cell_type": "code",
   "execution_count": 66,
   "id": "239b3ea2",
   "metadata": {},
   "outputs": [
    {
     "data": {
      "text/plain": [
       "[1, 5, 2, 7, 3, 8]"
      ]
     },
     "execution_count": 66,
     "metadata": {},
     "output_type": "execute_result"
    }
   ],
   "source": [
    "a"
   ]
  },
  {
   "cell_type": "code",
   "execution_count": 67,
   "id": "64962eff",
   "metadata": {},
   "outputs": [],
   "source": [
    "a.sort() #inplace sort"
   ]
  },
  {
   "cell_type": "code",
   "execution_count": 68,
   "id": "9cb4aeb9",
   "metadata": {},
   "outputs": [
    {
     "data": {
      "text/plain": [
       "[1, 2, 3, 5, 7, 8]"
      ]
     },
     "execution_count": 68,
     "metadata": {},
     "output_type": "execute_result"
    }
   ],
   "source": [
    "a"
   ]
  },
  {
   "cell_type": "code",
   "execution_count": 69,
   "id": "b78fe350",
   "metadata": {},
   "outputs": [
    {
     "data": {
      "text/plain": [
       "<list_reverseiterator at 0x5f71a00>"
      ]
     },
     "execution_count": 69,
     "metadata": {},
     "output_type": "execute_result"
    }
   ],
   "source": [
    "reversed(a) #return iterator"
   ]
  },
  {
   "cell_type": "code",
   "execution_count": 70,
   "id": "fd5d744b",
   "metadata": {},
   "outputs": [
    {
     "name": "stdout",
     "output_type": "stream",
     "text": [
      "8\n",
      "7\n",
      "5\n",
      "3\n",
      "2\n",
      "1\n"
     ]
    }
   ],
   "source": [
    "for i in reversed(a):\n",
    "    print(i)"
   ]
  },
  {
   "cell_type": "code",
   "execution_count": 71,
   "id": "af03f15a",
   "metadata": {},
   "outputs": [
    {
     "data": {
      "text/plain": [
       "[1, 2, 3, 5, 7, 8]"
      ]
     },
     "execution_count": 71,
     "metadata": {},
     "output_type": "execute_result"
    }
   ],
   "source": [
    "a"
   ]
  },
  {
   "cell_type": "code",
   "execution_count": 72,
   "id": "ca42c9c6",
   "metadata": {},
   "outputs": [],
   "source": [
    "a.reverse() #inplace reverse"
   ]
  },
  {
   "cell_type": "code",
   "execution_count": 73,
   "id": "4f152ff7",
   "metadata": {},
   "outputs": [
    {
     "data": {
      "text/plain": [
       "[8, 7, 5, 3, 2, 1]"
      ]
     },
     "execution_count": 73,
     "metadata": {},
     "output_type": "execute_result"
    }
   ],
   "source": [
    "a"
   ]
  },
  {
   "cell_type": "markdown",
   "id": "64456f75",
   "metadata": {},
   "source": [
    "## Tuples"
   ]
  },
  {
   "cell_type": "code",
   "execution_count": 1,
   "id": "f0c06424",
   "metadata": {},
   "outputs": [],
   "source": [
    "a=(1,2,3,4)"
   ]
  },
  {
   "cell_type": "code",
   "execution_count": 2,
   "id": "8c0d191d",
   "metadata": {},
   "outputs": [
    {
     "data": {
      "text/plain": [
       "2"
      ]
     },
     "execution_count": 2,
     "metadata": {},
     "output_type": "execute_result"
    }
   ],
   "source": [
    "a[1]"
   ]
  },
  {
   "cell_type": "code",
   "execution_count": 3,
   "id": "375c7349",
   "metadata": {},
   "outputs": [
    {
     "ename": "TypeError",
     "evalue": "'tuple' object does not support item assignment",
     "output_type": "error",
     "traceback": [
      "\u001b[1;31m---------------------------------------------------------------------------\u001b[0m",
      "\u001b[1;31mTypeError\u001b[0m                                 Traceback (most recent call last)",
      "\u001b[1;32m<ipython-input-3-61e2965874dc>\u001b[0m in \u001b[0;36m<module>\u001b[1;34m\u001b[0m\n\u001b[1;32m----> 1\u001b[1;33m \u001b[0ma\u001b[0m\u001b[1;33m[\u001b[0m\u001b[1;36m1\u001b[0m\u001b[1;33m]\u001b[0m\u001b[1;33m=\u001b[0m\u001b[1;36m4\u001b[0m\u001b[1;33m\u001b[0m\u001b[1;33m\u001b[0m\u001b[0m\n\u001b[0m",
      "\u001b[1;31mTypeError\u001b[0m: 'tuple' object does not support item assignment"
     ]
    }
   ],
   "source": [
    "a[1]=4    # immutable"
   ]
  },
  {
   "cell_type": "code",
   "execution_count": 7,
   "id": "544e77ee",
   "metadata": {},
   "outputs": [],
   "source": [
    "def func(*args):     #args are stored in a tuple because we dont need the change the value once it is passed\n",
    "    print(args)    "
   ]
  },
  {
   "cell_type": "code",
   "execution_count": 8,
   "id": "f69e0fbb",
   "metadata": {},
   "outputs": [
    {
     "name": "stdout",
     "output_type": "stream",
     "text": [
      "(1, 2, 3, 4)\n"
     ]
    }
   ],
   "source": [
    "func(1,2,3,4)"
   ]
  },
  {
   "cell_type": "code",
   "execution_count": 10,
   "id": "94cced48",
   "metadata": {},
   "outputs": [],
   "source": [
    "a=1,2,3"
   ]
  },
  {
   "cell_type": "code",
   "execution_count": 11,
   "id": "fd26c1a1",
   "metadata": {},
   "outputs": [
    {
     "data": {
      "text/plain": [
       "tuple"
      ]
     },
     "execution_count": 11,
     "metadata": {},
     "output_type": "execute_result"
    }
   ],
   "source": [
    "type(a)"
   ]
  },
  {
   "cell_type": "code",
   "execution_count": 12,
   "id": "346b3444",
   "metadata": {},
   "outputs": [],
   "source": [
    "b,c,d=a  #breaks the tuple and assign the values but the number of values in the tuple should be equal to the number of itdentigier in the left hand side"
   ]
  },
  {
   "cell_type": "code",
   "execution_count": 13,
   "id": "67aee337",
   "metadata": {},
   "outputs": [
    {
     "name": "stdout",
     "output_type": "stream",
     "text": [
      "1 2 3\n"
     ]
    }
   ],
   "source": [
    "print(b,c,d)"
   ]
  },
  {
   "cell_type": "code",
   "execution_count": null,
   "id": "4bc6e73d",
   "metadata": {},
   "outputs": [],
   "source": []
  },
  {
   "cell_type": "code",
   "execution_count": null,
   "id": "3ca04f6d",
   "metadata": {},
   "outputs": [],
   "source": []
  },
  {
   "cell_type": "code",
   "execution_count": null,
   "id": "ccd9e478",
   "metadata": {},
   "outputs": [],
   "source": []
  },
  {
   "cell_type": "code",
   "execution_count": null,
   "id": "4815db4c",
   "metadata": {},
   "outputs": [],
   "source": []
  },
  {
   "cell_type": "code",
   "execution_count": 4,
   "id": "a1978f7d",
   "metadata": {},
   "outputs": [],
   "source": [
    "#reverse a number using tuples\n",
    "a=10\n",
    "b=15"
   ]
  },
  {
   "cell_type": "code",
   "execution_count": 5,
   "id": "64ddc83a",
   "metadata": {},
   "outputs": [],
   "source": [
    "b,a=a,b    #tuple"
   ]
  },
  {
   "cell_type": "code",
   "execution_count": 6,
   "id": "b8c32f3a",
   "metadata": {},
   "outputs": [
    {
     "name": "stdout",
     "output_type": "stream",
     "text": [
      "15 10\n"
     ]
    }
   ],
   "source": [
    "print(a,b)"
   ]
  },
  {
   "cell_type": "code",
   "execution_count": 9,
   "id": "e7eada3b",
   "metadata": {},
   "outputs": [
    {
     "name": "stdout",
     "output_type": "stream",
     "text": [
      "15\n",
      "10\n"
     ]
    }
   ],
   "source": [
    "#another method using XOR\n",
    "a=10\n",
    "b=15\n",
    "a=a^b\n",
    "b=a^b\n",
    "a=a^b\n",
    "print(a)\n",
    "print(b)"
   ]
  },
  {
   "cell_type": "markdown",
   "id": "59fced76",
   "metadata": {},
   "source": [
    "### tuple to list and vice-versa"
   ]
  },
  {
   "cell_type": "code",
   "execution_count": 14,
   "id": "021e801e",
   "metadata": {},
   "outputs": [],
   "source": [
    "a=(1,2,3,4)"
   ]
  },
  {
   "cell_type": "code",
   "execution_count": 15,
   "id": "3966268e",
   "metadata": {},
   "outputs": [],
   "source": [
    "a=list(a)"
   ]
  },
  {
   "cell_type": "code",
   "execution_count": 16,
   "id": "4f266329",
   "metadata": {},
   "outputs": [
    {
     "data": {
      "text/plain": [
       "list"
      ]
     },
     "execution_count": 16,
     "metadata": {},
     "output_type": "execute_result"
    }
   ],
   "source": [
    "type(a)"
   ]
  },
  {
   "cell_type": "code",
   "execution_count": 17,
   "id": "ed9b3002",
   "metadata": {},
   "outputs": [
    {
     "data": {
      "text/plain": [
       "[1, 2, 3, 4]"
      ]
     },
     "execution_count": 17,
     "metadata": {},
     "output_type": "execute_result"
    }
   ],
   "source": [
    "a"
   ]
  },
  {
   "cell_type": "code",
   "execution_count": 18,
   "id": "3843330a",
   "metadata": {},
   "outputs": [],
   "source": [
    "s=\"Rounak\""
   ]
  },
  {
   "cell_type": "code",
   "execution_count": 19,
   "id": "cb0fe8cb",
   "metadata": {},
   "outputs": [],
   "source": [
    "s=list(s)"
   ]
  },
  {
   "cell_type": "code",
   "execution_count": 20,
   "id": "29e96f69",
   "metadata": {},
   "outputs": [
    {
     "data": {
      "text/plain": [
       "['R', 'o', 'u', 'n', 'a', 'k']"
      ]
     },
     "execution_count": 20,
     "metadata": {},
     "output_type": "execute_result"
    }
   ],
   "source": [
    "s"
   ]
  },
  {
   "cell_type": "code",
   "execution_count": 21,
   "id": "8b8b4cfe",
   "metadata": {},
   "outputs": [],
   "source": [
    "a=tuple(a)"
   ]
  },
  {
   "cell_type": "code",
   "execution_count": 22,
   "id": "a3237db8",
   "metadata": {},
   "outputs": [
    {
     "data": {
      "text/plain": [
       "(1, 2, 3, 4)"
      ]
     },
     "execution_count": 22,
     "metadata": {},
     "output_type": "execute_result"
    }
   ],
   "source": [
    "a"
   ]
  },
  {
   "cell_type": "markdown",
   "id": "75b92495",
   "metadata": {},
   "source": [
    "### returing multiple values using tuples"
   ]
  },
  {
   "cell_type": "code",
   "execution_count": 23,
   "id": "69eea5f5",
   "metadata": {},
   "outputs": [],
   "source": [
    "def add_subtract(a,b):\n",
    "    return a+b,a-b"
   ]
  },
  {
   "cell_type": "code",
   "execution_count": 25,
   "id": "65b62b2f",
   "metadata": {},
   "outputs": [],
   "source": [
    "sum,diff=add_subtract(6,5)"
   ]
  },
  {
   "cell_type": "code",
   "execution_count": 26,
   "id": "8171c499",
   "metadata": {},
   "outputs": [
    {
     "name": "stdout",
     "output_type": "stream",
     "text": [
      "11 1\n"
     ]
    }
   ],
   "source": [
    "print(sum,diff)"
   ]
  },
  {
   "cell_type": "markdown",
   "id": "d0b196b6",
   "metadata": {},
   "source": [
    "# Dictionaries"
   ]
  },
  {
   "cell_type": "code",
   "execution_count": 28,
   "id": "c8aed85b",
   "metadata": {},
   "outputs": [],
   "source": [
    "a={\n",
    "    \"name\":\"Rounak\",                   #keys are any immutable objects\n",
    "    \"marks\":95,\n",
    "    \"subjects\":[\"maths\",\"CS\"],\n",
    "    \"friends\":{\n",
    "        \"name\": \"Rishika\"\n",
    "    }\n",
    "}"
   ]
  },
  {
   "cell_type": "code",
   "execution_count": 29,
   "id": "f8137ee9",
   "metadata": {},
   "outputs": [
    {
     "data": {
      "text/plain": [
       "'Rounak'"
      ]
     },
     "execution_count": 29,
     "metadata": {},
     "output_type": "execute_result"
    }
   ],
   "source": [
    "a[\"name\"]"
   ]
  },
  {
   "cell_type": "code",
   "execution_count": 30,
   "id": "e80f40f0",
   "metadata": {},
   "outputs": [
    {
     "data": {
      "text/plain": [
       "95"
      ]
     },
     "execution_count": 30,
     "metadata": {},
     "output_type": "execute_result"
    }
   ],
   "source": [
    "a[\"marks\"]"
   ]
  },
  {
   "cell_type": "code",
   "execution_count": 31,
   "id": "04342863",
   "metadata": {},
   "outputs": [
    {
     "data": {
      "text/plain": [
       "['maths', 'CS']"
      ]
     },
     "execution_count": 31,
     "metadata": {},
     "output_type": "execute_result"
    }
   ],
   "source": [
    "a[\"subjects\"]"
   ]
  },
  {
   "cell_type": "code",
   "execution_count": 32,
   "id": "13063665",
   "metadata": {},
   "outputs": [
    {
     "data": {
      "text/plain": [
       "{'name': 'Rishika'}"
      ]
     },
     "execution_count": 32,
     "metadata": {},
     "output_type": "execute_result"
    }
   ],
   "source": [
    "a[\"friends\"]"
   ]
  },
  {
   "cell_type": "code",
   "execution_count": 33,
   "id": "bee6f644",
   "metadata": {},
   "outputs": [
    {
     "name": "stdout",
     "output_type": "stream",
     "text": [
      "name\n",
      "marks\n",
      "subjects\n",
      "friends\n"
     ]
    }
   ],
   "source": [
    "#by default iterating over a dictionary returns me all the keys\n",
    "for key in a:\n",
    "    print(key)"
   ]
  },
  {
   "cell_type": "markdown",
   "id": "c7d28f6b",
   "metadata": {},
   "source": [
    "### some important dict methods\n",
    "- get()\n",
    "- items()\n",
    "- keys()\n",
    "- values()\n",
    "- clear()"
   ]
  },
  {
   "cell_type": "code",
   "execution_count": 36,
   "id": "ba90bfa3",
   "metadata": {},
   "outputs": [
    {
     "name": "stdout",
     "output_type": "stream",
     "text": [
      "name => Rounak\n",
      "marks => 95\n",
      "subjects => ['maths', 'CS']\n",
      "friends => {'name': 'Rishika'}\n"
     ]
    }
   ],
   "source": [
    "for key,values in a.items():   #creates the tuple of ke and value\n",
    "    print(key,\"=>\",values)\n"
   ]
  },
  {
   "cell_type": "code",
   "execution_count": 37,
   "id": "acfceb56",
   "metadata": {},
   "outputs": [
    {
     "name": "stdout",
     "output_type": "stream",
     "text": [
      "name\n",
      "marks\n",
      "subjects\n",
      "friends\n"
     ]
    }
   ],
   "source": [
    "for key in a.keys():\n",
    "    print(key)"
   ]
  },
  {
   "cell_type": "code",
   "execution_count": 38,
   "id": "4350ea12",
   "metadata": {},
   "outputs": [
    {
     "name": "stdout",
     "output_type": "stream",
     "text": [
      "Rounak\n",
      "95\n",
      "['maths', 'CS']\n",
      "{'name': 'Rishika'}\n"
     ]
    }
   ],
   "source": [
    "for value in a.values():\n",
    "    print(value)"
   ]
  },
  {
   "cell_type": "code",
   "execution_count": 39,
   "id": "e1f41c2c",
   "metadata": {},
   "outputs": [
    {
     "data": {
      "text/plain": [
       "'Rounak'"
      ]
     },
     "execution_count": 39,
     "metadata": {},
     "output_type": "execute_result"
    }
   ],
   "source": [
    "a[\"name\"]"
   ]
  },
  {
   "cell_type": "code",
   "execution_count": 40,
   "id": "a3235bcd",
   "metadata": {},
   "outputs": [
    {
     "data": {
      "text/plain": [
       "'Rounak'"
      ]
     },
     "execution_count": 40,
     "metadata": {},
     "output_type": "execute_result"
    }
   ],
   "source": [
    "a.get(\"name\")"
   ]
  },
  {
   "cell_type": "code",
   "execution_count": 41,
   "id": "c4218711",
   "metadata": {},
   "outputs": [
    {
     "ename": "KeyError",
     "evalue": "'name1'",
     "output_type": "error",
     "traceback": [
      "\u001b[1;31m---------------------------------------------------------------------------\u001b[0m",
      "\u001b[1;31mKeyError\u001b[0m                                  Traceback (most recent call last)",
      "\u001b[1;32m<ipython-input-41-779d2fa7864d>\u001b[0m in \u001b[0;36m<module>\u001b[1;34m\u001b[0m\n\u001b[0;32m      1\u001b[0m \u001b[1;31m#but\u001b[0m\u001b[1;33m\u001b[0m\u001b[1;33m\u001b[0m\u001b[1;33m\u001b[0m\u001b[0m\n\u001b[1;32m----> 2\u001b[1;33m \u001b[0ma\u001b[0m\u001b[1;33m[\u001b[0m\u001b[1;34m\"name1\"\u001b[0m\u001b[1;33m]\u001b[0m\u001b[1;33m\u001b[0m\u001b[1;33m\u001b[0m\u001b[0m\n\u001b[0m",
      "\u001b[1;31mKeyError\u001b[0m: 'name1'"
     ]
    }
   ],
   "source": [
    "#but\n",
    "a[\"name1\"]"
   ]
  },
  {
   "cell_type": "code",
   "execution_count": 42,
   "id": "9024e5b8",
   "metadata": {},
   "outputs": [],
   "source": [
    "a.get(\"name1\")  # get is a safe method which does not throw traceback"
   ]
  },
  {
   "cell_type": "code",
   "execution_count": 43,
   "id": "70819888",
   "metadata": {},
   "outputs": [],
   "source": [
    "a.clear()"
   ]
  },
  {
   "cell_type": "code",
   "execution_count": 44,
   "id": "2e383a6d",
   "metadata": {},
   "outputs": [
    {
     "data": {
      "text/plain": [
       "{}"
      ]
     },
     "execution_count": 44,
     "metadata": {},
     "output_type": "execute_result"
    }
   ],
   "source": [
    "a"
   ]
  },
  {
   "cell_type": "code",
   "execution_count": 45,
   "id": "56d5cd9d",
   "metadata": {},
   "outputs": [],
   "source": [
    "student=[]"
   ]
  },
  {
   "cell_type": "code",
   "execution_count": 46,
   "id": "a4382c44",
   "metadata": {},
   "outputs": [
    {
     "name": "stdout",
     "output_type": "stream",
     "text": [
      "2\n"
     ]
    }
   ],
   "source": [
    "n=int(input())"
   ]
  },
  {
   "cell_type": "code",
   "execution_count": 47,
   "id": "316ef124",
   "metadata": {},
   "outputs": [
    {
     "name": "stdout",
     "output_type": "stream",
     "text": [
      "rounak\n",
      "29\n",
      "cs\n",
      "rishika\n",
      "22\n",
      "cs\n"
     ]
    }
   ],
   "source": [
    "for i in range(n):\n",
    "    name=input()\n",
    "    roll_no=int(input())\n",
    "    branch=input()\n",
    "    student.append({\n",
    "        \"name\": name,\n",
    "        \"roll_no\": roll_no,\n",
    "        \"branch\": branch,\n",
    "    })"
   ]
  },
  {
   "cell_type": "code",
   "execution_count": 48,
   "id": "b7478cbe",
   "metadata": {},
   "outputs": [
    {
     "data": {
      "text/plain": [
       "[{'name': 'rounak', 'roll_no': 29, 'branch': 'cs'},\n",
       " {'name': 'rishika', 'roll_no': 22, 'branch': 'cs'}]"
      ]
     },
     "execution_count": 48,
     "metadata": {},
     "output_type": "execute_result"
    }
   ],
   "source": [
    "student"
   ]
  },
  {
   "cell_type": "markdown",
   "id": "84ac5ea4",
   "metadata": {},
   "source": [
    "### in python the keys are immutable datastructure"
   ]
  },
  {
   "cell_type": "code",
   "execution_count": 50,
   "id": "f70302ac",
   "metadata": {},
   "outputs": [],
   "source": [
    "#tuple can be a key\n",
    "a={\n",
    "    (1,2): \"rounak\"\n",
    "}"
   ]
  },
  {
   "cell_type": "code",
   "execution_count": 51,
   "id": "8923649a",
   "metadata": {},
   "outputs": [
    {
     "data": {
      "text/plain": [
       "'rounak'"
      ]
     },
     "execution_count": 51,
     "metadata": {},
     "output_type": "execute_result"
    }
   ],
   "source": [
    "a[(1,2)]"
   ]
  },
  {
   "cell_type": "code",
   "execution_count": 1,
   "id": "260ac4b3",
   "metadata": {},
   "outputs": [
    {
     "ename": "TypeError",
     "evalue": "unhashable type: 'list'",
     "output_type": "error",
     "traceback": [
      "\u001b[1;31m---------------------------------------------------------------------------\u001b[0m",
      "\u001b[1;31mTypeError\u001b[0m                                 Traceback (most recent call last)",
      "\u001b[1;32m<ipython-input-1-94175a05282d>\u001b[0m in \u001b[0;36m<module>\u001b[1;34m\u001b[0m\n\u001b[0;32m      1\u001b[0m \u001b[1;31m#but\u001b[0m\u001b[1;33m\u001b[0m\u001b[1;33m\u001b[0m\u001b[1;33m\u001b[0m\u001b[0m\n\u001b[1;32m----> 2\u001b[1;33m a={\n\u001b[0m\u001b[0;32m      3\u001b[0m     \u001b[1;33m[\u001b[0m\u001b[1;36m1\u001b[0m\u001b[1;33m,\u001b[0m\u001b[1;36m2\u001b[0m\u001b[1;33m]\u001b[0m\u001b[1;33m:\u001b[0m \u001b[1;34m\"rounak\"\u001b[0m\u001b[1;33m\u001b[0m\u001b[1;33m\u001b[0m\u001b[0m\n\u001b[0;32m      4\u001b[0m }\n",
      "\u001b[1;31mTypeError\u001b[0m: unhashable type: 'list'"
     ]
    }
   ],
   "source": [
    "#but \n",
    "a={\n",
    "    [1,2]: \"rounak\"\n",
    "}"
   ]
  },
  {
   "cell_type": "markdown",
   "id": "f6a395c3",
   "metadata": {},
   "source": [
    "# sets\n",
    "unordered data structure"
   ]
  },
  {
   "cell_type": "code",
   "execution_count": 2,
   "id": "349a664b",
   "metadata": {},
   "outputs": [],
   "source": [
    "a=set()   #to create a empty set"
   ]
  },
  {
   "cell_type": "code",
   "execution_count": 3,
   "id": "e70ae819",
   "metadata": {},
   "outputs": [
    {
     "data": {
      "text/plain": [
       "set()"
      ]
     },
     "execution_count": 3,
     "metadata": {},
     "output_type": "execute_result"
    }
   ],
   "source": [
    "a"
   ]
  },
  {
   "cell_type": "code",
   "execution_count": 4,
   "id": "fa545680",
   "metadata": {},
   "outputs": [],
   "source": [
    "a={1,2,3,4}"
   ]
  },
  {
   "cell_type": "code",
   "execution_count": 5,
   "id": "21513404",
   "metadata": {},
   "outputs": [
    {
     "data": {
      "text/plain": [
       "set"
      ]
     },
     "execution_count": 5,
     "metadata": {},
     "output_type": "execute_result"
    }
   ],
   "source": [
    "type(a)"
   ]
  },
  {
   "cell_type": "code",
   "execution_count": 6,
   "id": "84db2616",
   "metadata": {},
   "outputs": [],
   "source": [
    "b={3,4,5,6}"
   ]
  },
  {
   "cell_type": "code",
   "execution_count": 7,
   "id": "55a027e6",
   "metadata": {},
   "outputs": [
    {
     "data": {
      "text/plain": [
       "{3, 4}"
      ]
     },
     "execution_count": 7,
     "metadata": {},
     "output_type": "execute_result"
    }
   ],
   "source": [
    "a.intersection(b)"
   ]
  },
  {
   "cell_type": "code",
   "execution_count": 8,
   "id": "faed9ef0",
   "metadata": {},
   "outputs": [
    {
     "data": {
      "text/plain": [
       "{1, 2, 3, 4, 5, 6}"
      ]
     },
     "execution_count": 8,
     "metadata": {},
     "output_type": "execute_result"
    }
   ],
   "source": [
    "a.union(b)"
   ]
  },
  {
   "cell_type": "code",
   "execution_count": 9,
   "id": "7dd7814b",
   "metadata": {},
   "outputs": [
    {
     "data": {
      "text/plain": [
       "{1, 2}"
      ]
     },
     "execution_count": 9,
     "metadata": {},
     "output_type": "execute_result"
    }
   ],
   "source": [
    "a-b"
   ]
  },
  {
   "cell_type": "code",
   "execution_count": 10,
   "id": "69c9b1a3",
   "metadata": {},
   "outputs": [
    {
     "data": {
      "text/plain": [
       "{5, 6}"
      ]
     },
     "execution_count": 10,
     "metadata": {},
     "output_type": "execute_result"
    }
   ],
   "source": [
    "b-a"
   ]
  },
  {
   "cell_type": "code",
   "execution_count": 11,
   "id": "15f8da8b",
   "metadata": {},
   "outputs": [
    {
     "ename": "TypeError",
     "evalue": "'set' object is not subscriptable",
     "output_type": "error",
     "traceback": [
      "\u001b[1;31m---------------------------------------------------------------------------\u001b[0m",
      "\u001b[1;31mTypeError\u001b[0m                                 Traceback (most recent call last)",
      "\u001b[1;32m<ipython-input-11-8bc71255a22e>\u001b[0m in \u001b[0;36m<module>\u001b[1;34m\u001b[0m\n\u001b[1;32m----> 1\u001b[1;33m \u001b[0ma\u001b[0m\u001b[1;33m[\u001b[0m\u001b[1;36m1\u001b[0m\u001b[1;33m]\u001b[0m\u001b[1;33m\u001b[0m\u001b[1;33m\u001b[0m\u001b[0m\n\u001b[0m",
      "\u001b[1;31mTypeError\u001b[0m: 'set' object is not subscriptable"
     ]
    }
   ],
   "source": [
    "a[1]   #error"
   ]
  },
  {
   "cell_type": "code",
   "execution_count": 12,
   "id": "713bcc78",
   "metadata": {},
   "outputs": [
    {
     "name": "stdout",
     "output_type": "stream",
     "text": [
      "1\n",
      "2\n",
      "3\n",
      "4\n"
     ]
    }
   ],
   "source": [
    "for i in a:\n",
    "    print(i)"
   ]
  },
  {
   "cell_type": "code",
   "execution_count": 13,
   "id": "3f70c9fe",
   "metadata": {},
   "outputs": [],
   "source": [
    "#set only contains unique elements\n",
    "a={1,2,3,4,1,2,3,4}"
   ]
  },
  {
   "cell_type": "code",
   "execution_count": 14,
   "id": "8f905941",
   "metadata": {},
   "outputs": [
    {
     "data": {
      "text/plain": [
       "{1, 2, 3, 4}"
      ]
     },
     "execution_count": 14,
     "metadata": {},
     "output_type": "execute_result"
    }
   ],
   "source": [
    "a"
   ]
  },
  {
   "cell_type": "code",
   "execution_count": 15,
   "id": "d0d0e08f",
   "metadata": {},
   "outputs": [],
   "source": [
    "#remove duplicate elements form a list"
   ]
  },
  {
   "cell_type": "code",
   "execution_count": 16,
   "id": "71244867",
   "metadata": {},
   "outputs": [],
   "source": [
    "a=[1,2,1,2,1,2,1,2,1,2]"
   ]
  },
  {
   "cell_type": "code",
   "execution_count": 18,
   "id": "23e59185",
   "metadata": {},
   "outputs": [],
   "source": [
    "a=list(set(a))   #but the order will not be retained"
   ]
  },
  {
   "cell_type": "code",
   "execution_count": 19,
   "id": "b1e576f0",
   "metadata": {},
   "outputs": [
    {
     "data": {
      "text/plain": [
       "[1, 2]"
      ]
     },
     "execution_count": 19,
     "metadata": {},
     "output_type": "execute_result"
    }
   ],
   "source": [
    "a"
   ]
  },
  {
   "cell_type": "code",
   "execution_count": 20,
   "id": "1333f47a",
   "metadata": {},
   "outputs": [],
   "source": [
    "b={1,2,7,6,5,3,4,7,8}   #arrange in sorted order"
   ]
  },
  {
   "cell_type": "code",
   "execution_count": 21,
   "id": "160f6bc7",
   "metadata": {},
   "outputs": [
    {
     "data": {
      "text/plain": [
       "{1, 2, 3, 4, 5, 6, 7, 8}"
      ]
     },
     "execution_count": 21,
     "metadata": {},
     "output_type": "execute_result"
    }
   ],
   "source": [
    "b             "
   ]
  },
  {
   "cell_type": "markdown",
   "id": "bc265048",
   "metadata": {},
   "source": [
    "# comprehension\n",
    "used to make lists,dicts,sets in a single line"
   ]
  },
  {
   "cell_type": "code",
   "execution_count": 22,
   "id": "e51ef732",
   "metadata": {},
   "outputs": [],
   "source": [
    "a=[]\n",
    "for i in range(10):\n",
    "    a.append(i**2)"
   ]
  },
  {
   "cell_type": "code",
   "execution_count": 23,
   "id": "e892ab67",
   "metadata": {},
   "outputs": [
    {
     "data": {
      "text/plain": [
       "[0, 1, 4, 9, 16, 25, 36, 49, 64, 81]"
      ]
     },
     "execution_count": 23,
     "metadata": {},
     "output_type": "execute_result"
    }
   ],
   "source": [
    "a"
   ]
  },
  {
   "cell_type": "markdown",
   "id": "86481aa5",
   "metadata": {},
   "source": [
    "### list comprehension"
   ]
  },
  {
   "cell_type": "code",
   "execution_count": 24,
   "id": "7bedf9e9",
   "metadata": {},
   "outputs": [
    {
     "data": {
      "text/plain": [
       "[0, 1, 4, 9, 16, 25, 36, 49, 64, 81]"
      ]
     },
     "execution_count": 24,
     "metadata": {},
     "output_type": "execute_result"
    }
   ],
   "source": [
    "[i**2 for i in range(10)]"
   ]
  },
  {
   "cell_type": "code",
   "execution_count": 25,
   "id": "4916ced6",
   "metadata": {},
   "outputs": [
    {
     "data": {
      "text/plain": [
       "[0, 4, 16, 36, 64]"
      ]
     },
     "execution_count": 25,
     "metadata": {},
     "output_type": "execute_result"
    }
   ],
   "source": [
    "[i**2 for i in range(10) if i%2==0]"
   ]
  },
  {
   "cell_type": "markdown",
   "id": "061e50fc",
   "metadata": {},
   "source": [
    "### dict compresenion"
   ]
  },
  {
   "cell_type": "code",
   "execution_count": 26,
   "id": "d361b3cd",
   "metadata": {},
   "outputs": [
    {
     "data": {
      "text/plain": [
       "{0: 0, 1: 1, 2: 4, 3: 9, 4: 16, 5: 25, 6: 36, 7: 49, 8: 64, 9: 81}"
      ]
     },
     "execution_count": 26,
     "metadata": {},
     "output_type": "execute_result"
    }
   ],
   "source": [
    "{i:i**2 for i in range(10)}"
   ]
  },
  {
   "cell_type": "code",
   "execution_count": 27,
   "id": "187175fb",
   "metadata": {},
   "outputs": [
    {
     "data": {
      "text/plain": [
       "{0: 0, 2: 4, 4: 16, 6: 36, 8: 64}"
      ]
     },
     "execution_count": 27,
     "metadata": {},
     "output_type": "execute_result"
    }
   ],
   "source": [
    "{i:i**2 for i in range(10) if i%2==0}"
   ]
  },
  {
   "cell_type": "markdown",
   "id": "4a27cc67",
   "metadata": {},
   "source": [
    "### set comprehension"
   ]
  },
  {
   "cell_type": "code",
   "execution_count": 28,
   "id": "1abfa437",
   "metadata": {},
   "outputs": [
    {
     "data": {
      "text/plain": [
       "{0, 1, 4, 9, 16, 25, 36, 49, 64, 81}"
      ]
     },
     "execution_count": 28,
     "metadata": {},
     "output_type": "execute_result"
    }
   ],
   "source": [
    "{i**2 for i in range(10)}"
   ]
  },
  {
   "cell_type": "code",
   "execution_count": 29,
   "id": "59a11232",
   "metadata": {},
   "outputs": [
    {
     "data": {
      "text/plain": [
       "{0, 4, 16, 36, 64}"
      ]
     },
     "execution_count": 29,
     "metadata": {},
     "output_type": "execute_result"
    }
   ],
   "source": [
    "{i**2 for i in range(10) if i%2==0}"
   ]
  },
  {
   "cell_type": "code",
   "execution_count": 30,
   "id": "bf44a3dd",
   "metadata": {},
   "outputs": [],
   "source": [
    "#tuple comprehension is not possible"
   ]
  },
  {
   "cell_type": "code",
   "execution_count": 31,
   "id": "dda6fb4c",
   "metadata": {},
   "outputs": [],
   "source": [
    "a=(i**2 for i in range(10))"
   ]
  },
  {
   "cell_type": "code",
   "execution_count": 32,
   "id": "7bfa8af8",
   "metadata": {},
   "outputs": [
    {
     "data": {
      "text/plain": [
       "<generator object <genexpr> at 0x0651A9C8>"
      ]
     },
     "execution_count": 32,
     "metadata": {},
     "output_type": "execute_result"
    }
   ],
   "source": [
    "a"
   ]
  },
  {
   "cell_type": "code",
   "execution_count": null,
   "id": "04e8db9f",
   "metadata": {},
   "outputs": [],
   "source": []
  }
 ],
 "metadata": {
  "kernelspec": {
   "display_name": "Python 3",
   "language": "python",
   "name": "python3"
  },
  "language_info": {
   "codemirror_mode": {
    "name": "ipython",
    "version": 3
   },
   "file_extension": ".py",
   "mimetype": "text/x-python",
   "name": "python",
   "nbconvert_exporter": "python",
   "pygments_lexer": "ipython3",
   "version": "3.8.3"
  }
 },
 "nbformat": 4,
 "nbformat_minor": 5
}
