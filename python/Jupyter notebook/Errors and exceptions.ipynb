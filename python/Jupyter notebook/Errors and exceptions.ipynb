{
 "cells": [
  {
   "cell_type": "markdown",
   "id": "b3d5284e",
   "metadata": {},
   "source": [
    "- try\n",
    "- except"
   ]
  },
  {
   "cell_type": "code",
   "execution_count": 2,
   "id": "2e715e20",
   "metadata": {},
   "outputs": [],
   "source": [
    "def div(a,b):\n",
    "    try:\n",
    "        return a/b;\n",
    "    except:\n",
    "        print(\"Error!\")\n",
    "    print(\"hello\")"
   ]
  },
  {
   "cell_type": "code",
   "execution_count": 3,
   "id": "74a48161",
   "metadata": {},
   "outputs": [
    {
     "name": "stdout",
     "output_type": "stream",
     "text": [
      "Error!\n",
      "hello\n"
     ]
    }
   ],
   "source": [
    "div(10,0)"
   ]
  },
  {
   "cell_type": "code",
   "execution_count": 5,
   "id": "b6568806",
   "metadata": {},
   "outputs": [
    {
     "data": {
      "text/plain": [
       "0.8571428571428571"
      ]
     },
     "execution_count": 5,
     "metadata": {},
     "output_type": "execute_result"
    }
   ],
   "source": [
    "div(6,7)"
   ]
  },
  {
   "cell_type": "markdown",
   "id": "6b3d580d",
   "metadata": {},
   "source": [
    "## exception class"
   ]
  },
  {
   "cell_type": "code",
   "execution_count": 6,
   "id": "8d9a22e9",
   "metadata": {},
   "outputs": [
    {
     "ename": "ZeroDivisionError",
     "evalue": "division by zero",
     "output_type": "error",
     "traceback": [
      "\u001b[1;31m---------------------------------------------------------------------------\u001b[0m",
      "\u001b[1;31mZeroDivisionError\u001b[0m                         Traceback (most recent call last)",
      "\u001b[1;32m<ipython-input-6-fe01563e1bc6>\u001b[0m in \u001b[0;36m<module>\u001b[1;34m\u001b[0m\n\u001b[1;32m----> 1\u001b[1;33m \u001b[0mprint\u001b[0m\u001b[1;33m(\u001b[0m\u001b[1;36m10\u001b[0m\u001b[1;33m/\u001b[0m\u001b[1;36m0\u001b[0m\u001b[1;33m)\u001b[0m\u001b[1;33m\u001b[0m\u001b[1;33m\u001b[0m\u001b[0m\n\u001b[0m",
      "\u001b[1;31mZeroDivisionError\u001b[0m: division by zero"
     ]
    }
   ],
   "source": [
    "print(10/0)"
   ]
  },
  {
   "cell_type": "code",
   "execution_count": 9,
   "id": "886255db",
   "metadata": {},
   "outputs": [
    {
     "name": "stdout",
     "output_type": "stream",
     "text": [
      "u are trying to divide by zero!\n"
     ]
    }
   ],
   "source": [
    "try:\n",
    "    print(10/0)\n",
    "except ZeroDivisionError:     #it will only work for this particular error\n",
    "    print(\"u are trying to divide by zero!\")"
   ]
  },
  {
   "cell_type": "code",
   "execution_count": 10,
   "id": "96d1e55f",
   "metadata": {},
   "outputs": [
    {
     "ename": "ValueError",
     "evalue": "invalid literal for int() with base 10: 'Rounak'",
     "output_type": "error",
     "traceback": [
      "\u001b[1;31m---------------------------------------------------------------------------\u001b[0m",
      "\u001b[1;31mValueError\u001b[0m                                Traceback (most recent call last)",
      "\u001b[1;32m<ipython-input-10-9715ed9cee74>\u001b[0m in \u001b[0;36m<module>\u001b[1;34m\u001b[0m\n\u001b[1;32m----> 1\u001b[1;33m \u001b[0ma\u001b[0m\u001b[1;33m=\u001b[0m\u001b[0mint\u001b[0m\u001b[1;33m(\u001b[0m\u001b[1;34m\"Rounak\"\u001b[0m\u001b[1;33m)\u001b[0m\u001b[1;33m\u001b[0m\u001b[1;33m\u001b[0m\u001b[0m\n\u001b[0m",
      "\u001b[1;31mValueError\u001b[0m: invalid literal for int() with base 10: 'Rounak'"
     ]
    }
   ],
   "source": [
    "a=int(\"Rounak\")"
   ]
  },
  {
   "cell_type": "code",
   "execution_count": 12,
   "id": "e5840699",
   "metadata": {},
   "outputs": [
    {
     "ename": "ValueError",
     "evalue": "invalid literal for int() with base 10: 'Rounak'",
     "output_type": "error",
     "traceback": [
      "\u001b[1;31m---------------------------------------------------------------------------\u001b[0m",
      "\u001b[1;31mValueError\u001b[0m                                Traceback (most recent call last)",
      "\u001b[1;32m<ipython-input-12-53e9ac1171ea>\u001b[0m in \u001b[0;36m<module>\u001b[1;34m\u001b[0m\n\u001b[0;32m      1\u001b[0m \u001b[1;32mtry\u001b[0m\u001b[1;33m:\u001b[0m                                             \u001b[1;31m#this will not work\u001b[0m\u001b[1;33m\u001b[0m\u001b[1;33m\u001b[0m\u001b[0m\n\u001b[1;32m----> 2\u001b[1;33m     \u001b[0ma\u001b[0m\u001b[1;33m=\u001b[0m\u001b[0mint\u001b[0m\u001b[1;33m(\u001b[0m\u001b[1;34m\"Rounak\"\u001b[0m\u001b[1;33m)\u001b[0m\u001b[1;33m\u001b[0m\u001b[1;33m\u001b[0m\u001b[0m\n\u001b[0m\u001b[0;32m      3\u001b[0m \u001b[1;32mexcept\u001b[0m \u001b[0mZeroDivisionError\u001b[0m\u001b[1;33m:\u001b[0m\u001b[1;33m\u001b[0m\u001b[1;33m\u001b[0m\u001b[0m\n\u001b[0;32m      4\u001b[0m     \u001b[0mprint\u001b[0m\u001b[1;33m(\u001b[0m\u001b[1;34m\"u are trying to divide by zero!\"\u001b[0m\u001b[1;33m)\u001b[0m\u001b[1;33m\u001b[0m\u001b[1;33m\u001b[0m\u001b[0m\n",
      "\u001b[1;31mValueError\u001b[0m: invalid literal for int() with base 10: 'Rounak'"
     ]
    }
   ],
   "source": [
    "try:                                             #this will not work\n",
    "    a=int(\"Rounak\")\n",
    "except ZeroDivisionError:    \n",
    "    print(\"u are trying to divide by zero!\")"
   ]
  },
  {
   "cell_type": "code",
   "execution_count": 15,
   "id": "011d7849",
   "metadata": {},
   "outputs": [
    {
     "name": "stdout",
     "output_type": "stream",
     "text": [
      "some error occured\n"
     ]
    }
   ],
   "source": [
    "try:                                             #this will work\n",
    "    a=int(\"Rounak\")\n",
    "except ValueError:\n",
    "    print(\"some error occured\")\n",
    "except ZeroDivisionError:    \n",
    "    print(\"u are trying to divide by zero!\")"
   ]
  },
  {
   "cell_type": "code",
   "execution_count": 16,
   "id": "e5f32c85",
   "metadata": {},
   "outputs": [
    {
     "name": "stdout",
     "output_type": "stream",
     "text": [
      "u are trying to divide by zero!\n"
     ]
    }
   ],
   "source": [
    "try:\n",
    "    print(10/0)\n",
    "    a=int(\"Rounak\")              #thsi will not be executed\n",
    "except ValueError:\n",
    "    print(\"some error occured\")\n",
    "except ZeroDivisionError:    \n",
    "    print(\"u are trying to divide by zero!\")"
   ]
  },
  {
   "cell_type": "code",
   "execution_count": 19,
   "id": "bd7c3d65",
   "metadata": {},
   "outputs": [
    {
     "name": "stdout",
     "output_type": "stream",
     "text": [
      "division by zero\n"
     ]
    }
   ],
   "source": [
    "try:\n",
    "    print(10/0)\n",
    "except Exception as e:             #all the errors are in exception class\n",
    "    print(e)"
   ]
  },
  {
   "cell_type": "markdown",
   "id": "6b572222",
   "metadata": {},
   "source": [
    "- raise"
   ]
  },
  {
   "cell_type": "code",
   "execution_count": 3,
   "id": "04ff3a75",
   "metadata": {},
   "outputs": [
    {
     "name": "stdout",
     "output_type": "stream",
     "text": [
      "('My raised exception', 1, 2)\n"
     ]
    }
   ],
   "source": [
    "try:\n",
    "    raise Exception(\"My raised exception\",1,2)\n",
    "except Exception as e:\n",
    "    print(e)              #it outputs all the arguments given"
   ]
  },
  {
   "cell_type": "code",
   "execution_count": 15,
   "id": "a13d0908",
   "metadata": {},
   "outputs": [],
   "source": [
    "class Myexception_class(Exception):   #all the exception in python must be derieved from Exception class  \n",
    "    def __init__(self,message,a,b):\n",
    "        self.message=message\n",
    "    def __str__(self):\n",
    "        return self.message"
   ]
  },
  {
   "cell_type": "code",
   "execution_count": 16,
   "id": "c8a183b1",
   "metadata": {},
   "outputs": [
    {
     "name": "stdout",
     "output_type": "stream",
     "text": [
      "My raised exception\n"
     ]
    }
   ],
   "source": [
    "try:\n",
    "    raise Myexception_class(\"My raised exception\",1,2)\n",
    "except Exception as e:\n",
    "    print(e.message) "
   ]
  },
  {
   "cell_type": "markdown",
   "id": "26f17b88",
   "metadata": {},
   "source": [
    "- else: will always execute if try block does not throw any error\n",
    "- finnaly: will always execute"
   ]
  },
  {
   "cell_type": "code",
   "execution_count": 18,
   "id": "84c76e80",
   "metadata": {},
   "outputs": [
    {
     "name": "stdout",
     "output_type": "stream",
     "text": [
      "Hello world\n",
      "Woah\n",
      "Bye\n"
     ]
    }
   ],
   "source": [
    "try:\n",
    "    print(\"Hello world\")\n",
    "except:\n",
    "    print(\"some Error\")\n",
    "else:\n",
    "    print(\"Woah\")\n",
    "finally:\n",
    "    print(\"Bye\")"
   ]
  },
  {
   "cell_type": "code",
   "execution_count": 21,
   "id": "d6781d39",
   "metadata": {},
   "outputs": [
    {
     "name": "stdout",
     "output_type": "stream",
     "text": [
      "Hello world\n",
      "some Error\n",
      "Bye\n"
     ]
    }
   ],
   "source": [
    "try:\n",
    "    print(\"Hello world\")\n",
    "    print(10/0)\n",
    "except:\n",
    "    print(\"some Error\")\n",
    "else:\n",
    "    print(\"Woah\")\n",
    "finally:\n",
    "    #cleanup code\n",
    "    print(\"Bye\")"
   ]
  },
  {
   "cell_type": "code",
   "execution_count": 26,
   "id": "8013b1a4",
   "metadata": {},
   "outputs": [],
   "source": [
    "def func():\n",
    "    try:\n",
    "        return 1\n",
    "    except:\n",
    "        return 2\n",
    "    else:\n",
    "        return 3\n",
    "    finally:\n",
    "        return 4      #this block will execute"
   ]
  },
  {
   "cell_type": "code",
   "execution_count": 27,
   "id": "f8de04ec",
   "metadata": {},
   "outputs": [
    {
     "data": {
      "text/plain": [
       "4"
      ]
     },
     "execution_count": 27,
     "metadata": {},
     "output_type": "execute_result"
    }
   ],
   "source": [
    "func()"
   ]
  },
  {
   "cell_type": "code",
   "execution_count": 31,
   "id": "bfc2ff78",
   "metadata": {},
   "outputs": [],
   "source": [
    "try:\n",
    "    file=open(\"hello.txt\",\"r\")\n",
    "    file.read()\n",
    "except:\n",
    "    print(\"Error\")\n",
    "finally: #practical use\n",
    "    file.close()"
   ]
  },
  {
   "cell_type": "code",
   "execution_count": null,
   "id": "8969d0ca",
   "metadata": {},
   "outputs": [],
   "source": []
  },
  {
   "cell_type": "markdown",
   "id": "e7880c9f",
   "metadata": {},
   "source": [
    "- with : predefined cleaning action"
   ]
  },
  {
   "cell_type": "code",
   "execution_count": 43,
   "id": "2eb6fada",
   "metadata": {},
   "outputs": [],
   "source": [
    "class A:\n",
    "    def __init__(self,n):\n",
    "        self.n=n\n",
    "    def __str__(self):\n",
    "        return str(self.n)\n",
    "    def __enter__(self):     #with with statement thsi function is trgged and it enters \n",
    "        return self\n",
    "    def __exit__(self,*args):    #while exition from with\n",
    "        print(args)\n",
    "        return True       #if true is returned then exception is not raised"
   ]
  },
  {
   "cell_type": "code",
   "execution_count": 44,
   "id": "4393af42",
   "metadata": {},
   "outputs": [
    {
     "name": "stdout",
     "output_type": "stream",
     "text": [
      "5\n",
      "(<class 'ZeroDivisionError'>, ZeroDivisionError('division by zero'), <traceback object at 0x044A3728>)\n",
      "hello\n"
     ]
    }
   ],
   "source": [
    "with A(5) as a:\n",
    "    print(a)\n",
    "    raise 10/0\n",
    "print(\"hello\")"
   ]
  },
  {
   "cell_type": "code",
   "execution_count": 47,
   "id": "dec7c145",
   "metadata": {},
   "outputs": [],
   "source": [
    "class A:\n",
    "    def __init__(self,n):\n",
    "        self.n=n\n",
    "    def __str__(self):\n",
    "        return str(self.n)\n",
    "    def __enter__(self):     #with with statement thsi function is trgged and it enters \n",
    "        return self\n",
    "    def __exit__(self,*args):    #while exition from with\n",
    "        print(args)\n",
    "        return False       #if false is returned then exception is raised and if noting is returned by default it is false"
   ]
  },
  {
   "cell_type": "code",
   "execution_count": 48,
   "id": "aeb5b76f",
   "metadata": {},
   "outputs": [
    {
     "name": "stdout",
     "output_type": "stream",
     "text": [
      "5\n",
      "(<class 'ZeroDivisionError'>, ZeroDivisionError('division by zero'), <traceback object at 0x00969848>)\n"
     ]
    },
    {
     "ename": "ZeroDivisionError",
     "evalue": "division by zero",
     "output_type": "error",
     "traceback": [
      "\u001b[1;31m---------------------------------------------------------------------------\u001b[0m",
      "\u001b[1;31mZeroDivisionError\u001b[0m                         Traceback (most recent call last)",
      "\u001b[1;32m<ipython-input-48-c623a6aae5c4>\u001b[0m in \u001b[0;36m<module>\u001b[1;34m\u001b[0m\n\u001b[0;32m      1\u001b[0m \u001b[1;32mwith\u001b[0m \u001b[0mA\u001b[0m\u001b[1;33m(\u001b[0m\u001b[1;36m5\u001b[0m\u001b[1;33m)\u001b[0m \u001b[1;32mas\u001b[0m \u001b[0ma\u001b[0m\u001b[1;33m:\u001b[0m\u001b[1;33m\u001b[0m\u001b[1;33m\u001b[0m\u001b[0m\n\u001b[0;32m      2\u001b[0m     \u001b[0mprint\u001b[0m\u001b[1;33m(\u001b[0m\u001b[0ma\u001b[0m\u001b[1;33m)\u001b[0m\u001b[1;33m\u001b[0m\u001b[1;33m\u001b[0m\u001b[0m\n\u001b[1;32m----> 3\u001b[1;33m     \u001b[1;32mraise\u001b[0m \u001b[1;36m10\u001b[0m\u001b[1;33m/\u001b[0m\u001b[1;36m0\u001b[0m\u001b[1;33m\u001b[0m\u001b[1;33m\u001b[0m\u001b[0m\n\u001b[0m\u001b[0;32m      4\u001b[0m \u001b[0mprint\u001b[0m\u001b[1;33m(\u001b[0m\u001b[1;34m\"hello\"\u001b[0m\u001b[1;33m)\u001b[0m\u001b[1;33m\u001b[0m\u001b[1;33m\u001b[0m\u001b[0m\n",
      "\u001b[1;31mZeroDivisionError\u001b[0m: division by zero"
     ]
    }
   ],
   "source": [
    "with A(5) as a:\n",
    "    print(a)\n",
    "    raise 10/0\n",
    "print(\"hello\")"
   ]
  },
  {
   "cell_type": "code",
   "execution_count": null,
   "id": "ebad0bd4",
   "metadata": {},
   "outputs": [],
   "source": []
  }
 ],
 "metadata": {
  "kernelspec": {
   "display_name": "Python 3",
   "language": "python",
   "name": "python3"
  },
  "language_info": {
   "codemirror_mode": {
    "name": "ipython",
    "version": 3
   },
   "file_extension": ".py",
   "mimetype": "text/x-python",
   "name": "python",
   "nbconvert_exporter": "python",
   "pygments_lexer": "ipython3",
   "version": "3.8.3"
  }
 },
 "nbformat": 4,
 "nbformat_minor": 5
}
