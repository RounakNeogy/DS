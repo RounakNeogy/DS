{
 "cells": [
  {
   "cell_type": "code",
   "execution_count": 2,
   "id": "e7028380",
   "metadata": {},
   "outputs": [
    {
     "name": "stdout",
     "output_type": "stream",
     "text": [
      "{\n",
      "    \"name\": \"Rounak\",\n",
      "    \"roll no\": 69,\n",
      "    \"subjects\": [\"eng\",\"math\"]\n",
      "}\n"
     ]
    }
   ],
   "source": [
    "with open(\"data.json\",\"r\") as file:\n",
    "    print(file.read())   #outputs a string"
   ]
  },
  {
   "cell_type": "code",
   "execution_count": 3,
   "id": "307188e1",
   "metadata": {},
   "outputs": [],
   "source": [
    "#but we want to change this data to python dictionaries"
   ]
  },
  {
   "cell_type": "code",
   "execution_count": 2,
   "id": "c5e4889c",
   "metadata": {},
   "outputs": [],
   "source": [
    "import json"
   ]
  },
  {
   "cell_type": "code",
   "execution_count": 6,
   "id": "32d44333",
   "metadata": {},
   "outputs": [
    {
     "name": "stdout",
     "output_type": "stream",
     "text": [
      "{'name': 'Rounak', 'roll no': 69, 'subjects': ['eng', 'math']}\n"
     ]
    }
   ],
   "source": [
    "with open(\"data.json\",\"r\") as file:\n",
    "    d=json.load(file)          #it gives the file as a dictionary\n",
    "    print(d)"
   ]
  },
  {
   "cell_type": "code",
   "execution_count": 7,
   "id": "8b58ab0e",
   "metadata": {},
   "outputs": [
    {
     "name": "stdout",
     "output_type": "stream",
     "text": [
      "Rounak\n"
     ]
    }
   ],
   "source": [
    "#so\n",
    "print(d[\"name\"])"
   ]
  },
  {
   "cell_type": "code",
   "execution_count": 3,
   "id": "bb22f4d8",
   "metadata": {},
   "outputs": [
    {
     "name": "stdout",
     "output_type": "stream",
     "text": [
      "<class 'str'>\n",
      "{\n",
      "    \"name\": \"Rounak\",\n",
      "    \"roll no\": 69,\n",
      "    \"subjects\": [\"eng\",\"math\"]\n",
      "}\n",
      "{'name': 'Rounak', 'roll no': 69, 'subjects': ['eng', 'math']}\n"
     ]
    }
   ],
   "source": [
    "with open(\"data.json\",\"r\") as file:\n",
    "    s=file.read();\n",
    "    print(type(s))\n",
    "    print(s)\n",
    "    d=json.loads(s)   #converts the string data into dictionary\n",
    "    print(d)"
   ]
  },
  {
   "cell_type": "code",
   "execution_count": 8,
   "id": "f608971e",
   "metadata": {},
   "outputs": [],
   "source": [
    "d={'name': 'Rounak', 'roll no': 69, 'subjects': ['eng', 'math']}"
   ]
  },
  {
   "cell_type": "code",
   "execution_count": 9,
   "id": "fbbf18b5",
   "metadata": {},
   "outputs": [
    {
     "data": {
      "text/plain": [
       "'Rounak'"
      ]
     },
     "execution_count": 9,
     "metadata": {},
     "output_type": "execute_result"
    }
   ],
   "source": [
    "d['name']"
   ]
  },
  {
   "cell_type": "code",
   "execution_count": 12,
   "id": "40324cbf",
   "metadata": {},
   "outputs": [],
   "source": [
    "string= json.dumps(d) #convert dic to string"
   ]
  },
  {
   "cell_type": "code",
   "execution_count": 13,
   "id": "d709b07e",
   "metadata": {},
   "outputs": [
    {
     "name": "stdout",
     "output_type": "stream",
     "text": [
      "{\"name\": \"Rounak\", \"roll no\": 69, \"subjects\": [\"eng\", \"math\"]}\n"
     ]
    }
   ],
   "source": [
    "print(string)"
   ]
  },
  {
   "cell_type": "code",
   "execution_count": 14,
   "id": "e710d494",
   "metadata": {},
   "outputs": [],
   "source": [
    "with open(\"data2.json\",\"w\") as file:\n",
    "    json.dump(d,file)       #convert dic into json data "
   ]
  },
  {
   "cell_type": "code",
   "execution_count": null,
   "id": "e67c76f6",
   "metadata": {},
   "outputs": [],
   "source": []
  }
 ],
 "metadata": {
  "kernelspec": {
   "display_name": "Python 3",
   "language": "python",
   "name": "python3"
  },
  "language_info": {
   "codemirror_mode": {
    "name": "ipython",
    "version": 3
   },
   "file_extension": ".py",
   "mimetype": "text/x-python",
   "name": "python",
   "nbconvert_exporter": "python",
   "pygments_lexer": "ipython3",
   "version": "3.8.3"
  }
 },
 "nbformat": 4,
 "nbformat_minor": 5
}
