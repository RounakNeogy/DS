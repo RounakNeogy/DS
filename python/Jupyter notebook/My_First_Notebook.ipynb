{
 "cells": [
  {
   "cell_type": "code",
   "execution_count": 1,
   "id": "191f225b",
   "metadata": {},
   "outputs": [
    {
     "name": "stdout",
     "output_type": "stream",
     "text": [
      "Hello World\n"
     ]
    }
   ],
   "source": [
    "print(\"Hello World\")"
   ]
  },
  {
   "cell_type": "code",
   "execution_count": 2,
   "id": "80b0b730",
   "metadata": {},
   "outputs": [
    {
     "name": "stdout",
     "output_type": "stream",
     "text": [
      "Hi\n"
     ]
    }
   ],
   "source": [
    "print(\"Hi\")"
   ]
  },
  {
   "cell_type": "markdown",
   "id": "0154e8b8",
   "metadata": {},
   "source": [
    "# Markdown\n",
    "used to specipy some texts\n",
    "- A\n",
    "- B\n",
    "- C"
   ]
  },
  {
   "cell_type": "markdown",
   "id": "032e3a7a",
   "metadata": {},
   "source": [
    "# shortcuts\n",
    "### Add cell above\n",
    "Esc,a\n",
    "### Add cell below\n",
    "Esc,b\n",
    "### change to Markdown\n",
    "Esc,m\n",
    "### change to code\n",
    "Esc,y\n",
    "### to run\n",
    "shift+enter\n",
    "### delete a cell\n",
    "Esc, d,d"
   ]
  },
  {
   "cell_type": "code",
   "execution_count": 4,
   "id": "9abdcb1e",
   "metadata": {},
   "outputs": [
    {
     "name": "stdout",
     "output_type": "stream",
     "text": [
      "30\n"
     ]
    }
   ],
   "source": [
    "a=10;\n",
    "b=20;\n",
    "print(a+b);"
   ]
  },
  {
   "cell_type": "code",
   "execution_count": 9,
   "id": "d5113b8e",
   "metadata": {},
   "outputs": [],
   "source": [
    "x=5"
   ]
  },
  {
   "cell_type": "code",
   "execution_count": 6,
   "id": "dbacc41e",
   "metadata": {},
   "outputs": [],
   "source": [
    "x=10"
   ]
  },
  {
   "cell_type": "code",
   "execution_count": 7,
   "id": "aafcb773",
   "metadata": {},
   "outputs": [
    {
     "name": "stdout",
     "output_type": "stream",
     "text": [
      "10\n"
     ]
    }
   ],
   "source": [
    "print(x);"
   ]
  },
  {
   "cell_type": "code",
   "execution_count": 10,
   "id": "e8e96f68",
   "metadata": {},
   "outputs": [
    {
     "name": "stdout",
     "output_type": "stream",
     "text": [
      "5\n"
     ]
    }
   ],
   "source": [
    "print(x)"
   ]
  },
  {
   "cell_type": "markdown",
   "id": "926b9791",
   "metadata": {},
   "source": [
    "# Order of execution matters \n"
   ]
  }
 ],
 "metadata": {
  "kernelspec": {
   "display_name": "Python 3",
   "language": "python",
   "name": "python3"
  },
  "language_info": {
   "codemirror_mode": {
    "name": "ipython",
    "version": 3
   },
   "file_extension": ".py",
   "mimetype": "text/x-python",
   "name": "python",
   "nbconvert_exporter": "python",
   "pygments_lexer": "ipython3",
   "version": "3.8.3"
  }
 },
 "nbformat": 4,
 "nbformat_minor": 5
}
