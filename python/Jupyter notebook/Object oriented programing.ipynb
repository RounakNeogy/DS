{
 "cells": [
  {
   "cell_type": "markdown",
   "id": "cb912821",
   "metadata": {},
   "source": [
    "# Class"
   ]
  },
  {
   "cell_type": "code",
   "execution_count": 1,
   "id": "901a7323",
   "metadata": {},
   "outputs": [],
   "source": [
    "class Person:                # good practice to def the name of the class with the first letter capital\n",
    "    name=\"jatin\"\n",
    "    def sayhi(self):\n",
    "        print(\"My name is \"+self.name)\n",
    "    "
   ]
  },
  {
   "cell_type": "code",
   "execution_count": 2,
   "id": "dedca98b",
   "metadata": {},
   "outputs": [
    {
     "name": "stdout",
     "output_type": "stream",
     "text": [
      "My name is jatin\n"
     ]
    }
   ],
   "source": [
    "p=Person()\n",
    "p.sayhi()"
   ]
  },
  {
   "cell_type": "code",
   "execution_count": 5,
   "id": "7233ce14",
   "metadata": {},
   "outputs": [
    {
     "name": "stdout",
     "output_type": "stream",
     "text": [
      "My name is Rounak\n",
      "My name is Rounak\n"
     ]
    }
   ],
   "source": [
    "class Person:\n",
    "    def __init__(self,name):\n",
    "        self.name=name           #defining attributes of the class\n",
    "    def sayhi(self):\n",
    "        print(\"My name is \"+self.name)\n",
    "p=Person(\"Rounak\")\n",
    "p.sayhi()     # the class object is sent first\n",
    "Person.sayhi(p)  # this can also be done"
   ]
  },
  {
   "cell_type": "markdown",
   "id": "f50a1830",
   "metadata": {},
   "source": [
    "## Dunders or magic function"
   ]
  },
  {
   "cell_type": "code",
   "execution_count": 1,
   "id": "55b5f74e",
   "metadata": {},
   "outputs": [],
   "source": [
    "class car:\n",
    "    def __init__(self,model,milage):    #these are dunders or magic methods\n",
    "        self.model=model\n",
    "        self.milage=milage\n",
    "    def __str__(self):\n",
    "        return f\"{self.model} {self.milage}\"\n",
    "    def __repr__(self):\n",
    "        return f\"{self.model}\"\n",
    "    def __eq__(self,other):\n",
    "        return self.milage==other.milage\n",
    "    def __add__(self,other):\n",
    "        return self.milage+other.milage\n",
    "        "
   ]
  },
  {
   "cell_type": "code",
   "execution_count": 4,
   "id": "004ff0d2",
   "metadata": {},
   "outputs": [],
   "source": [
    "c1=car(\"a\",2)\n",
    "c2=car(\"b\",4)"
   ]
  },
  {
   "cell_type": "code",
   "execution_count": 5,
   "id": "5cb9b950",
   "metadata": {},
   "outputs": [
    {
     "data": {
      "text/plain": [
       "6"
      ]
     },
     "execution_count": 5,
     "metadata": {},
     "output_type": "execute_result"
    }
   ],
   "source": [
    "c1+c2       #calls the __add__ function"
   ]
  },
  {
   "cell_type": "code",
   "execution_count": 6,
   "id": "e4bf83e7",
   "metadata": {},
   "outputs": [
    {
     "data": {
      "text/plain": [
       "False"
      ]
     },
     "execution_count": 6,
     "metadata": {},
     "output_type": "execute_result"
    }
   ],
   "source": [
    "c1==c2      #calls the __eq__ function"
   ]
  },
  {
   "cell_type": "code",
   "execution_count": 7,
   "id": "ac423ec7",
   "metadata": {},
   "outputs": [
    {
     "data": {
      "text/plain": [
       "'a 2'"
      ]
     },
     "execution_count": 7,
     "metadata": {},
     "output_type": "execute_result"
    }
   ],
   "source": [
    "str(c1)   #call the __str__ function"
   ]
  },
  {
   "cell_type": "code",
   "execution_count": 8,
   "id": "31afd08d",
   "metadata": {},
   "outputs": [
    {
     "name": "stdout",
     "output_type": "stream",
     "text": [
      "a 2\n"
     ]
    }
   ],
   "source": [
    "print(c1)"
   ]
  },
  {
   "cell_type": "code",
   "execution_count": 22,
   "id": "558fedc1",
   "metadata": {},
   "outputs": [],
   "source": [
    "# lets make cout<<\"rounak\"<<\"rishika\"   work\n",
    "\n",
    "class ofstream:\n",
    "    def __lshift__(self,other):\n",
    "        print(other,end=\" \")\n",
    "        return self            # to print the next other\n"
   ]
  },
  {
   "cell_type": "code",
   "execution_count": 23,
   "id": "2fe608c7",
   "metadata": {},
   "outputs": [],
   "source": [
    "cout=ofstream()"
   ]
  },
  {
   "cell_type": "code",
   "execution_count": 24,
   "id": "199967ed",
   "metadata": {},
   "outputs": [
    {
     "name": "stdout",
     "output_type": "stream",
     "text": [
      "Rounak Rishika "
     ]
    },
    {
     "data": {
      "text/plain": [
       "<__main__.ofstream at 0x5b71058>"
      ]
     },
     "execution_count": 24,
     "metadata": {},
     "output_type": "execute_result"
    }
   ],
   "source": [
    "cout<<\"Rounak\"<<\"Rishika\""
   ]
  },
  {
   "cell_type": "code",
   "execution_count": 26,
   "id": "3da32f79",
   "metadata": {},
   "outputs": [],
   "source": [
    "class Dog:\n",
    "    kind=\"lab\"       #class variable shared by all instances\n",
    "    def __init__(self,name):\n",
    "        self.name=name        #class variable uniqur to each instances"
   ]
  },
  {
   "cell_type": "code",
   "execution_count": 27,
   "id": "8adc9c9a",
   "metadata": {},
   "outputs": [],
   "source": [
    "a=Dog(\"golden retriver\")    #all the atributes of class Dog gets copied to a     "
   ]
  },
  {
   "cell_type": "code",
   "execution_count": 28,
   "id": "24642919",
   "metadata": {},
   "outputs": [
    {
     "data": {
      "text/plain": [
       "'lab'"
      ]
     },
     "execution_count": 28,
     "metadata": {},
     "output_type": "execute_result"
    }
   ],
   "source": [
    "a.kind"
   ]
  },
  {
   "cell_type": "code",
   "execution_count": 30,
   "id": "7bd1f860",
   "metadata": {},
   "outputs": [],
   "source": [
    "b=Dog(\"Pug\")"
   ]
  },
  {
   "cell_type": "code",
   "execution_count": 31,
   "id": "3a4c95f3",
   "metadata": {},
   "outputs": [
    {
     "data": {
      "text/plain": [
       "'lab'"
      ]
     },
     "execution_count": 31,
     "metadata": {},
     "output_type": "execute_result"
    }
   ],
   "source": [
    "b.kind"
   ]
  },
  {
   "cell_type": "code",
   "execution_count": 32,
   "id": "ea64dd22",
   "metadata": {},
   "outputs": [],
   "source": [
    "b.kind=\"something\""
   ]
  },
  {
   "cell_type": "code",
   "execution_count": 33,
   "id": "c4178327",
   "metadata": {},
   "outputs": [
    {
     "data": {
      "text/plain": [
       "'something'"
      ]
     },
     "execution_count": 33,
     "metadata": {},
     "output_type": "execute_result"
    }
   ],
   "source": [
    "b.kind"
   ]
  },
  {
   "cell_type": "code",
   "execution_count": 34,
   "id": "8de7a912",
   "metadata": {},
   "outputs": [
    {
     "data": {
      "text/plain": [
       "'lab'"
      ]
     },
     "execution_count": 34,
     "metadata": {},
     "output_type": "execute_result"
    }
   ],
   "source": [
    "#but still \n",
    "a.kind          #as this Ds is immutable they share different memory space"
   ]
  },
  {
   "cell_type": "code",
   "execution_count": 51,
   "id": "1f85d117",
   "metadata": {},
   "outputs": [],
   "source": [
    "class Dog:\n",
    "    tricks=[]\n",
    "    def __init__(self,name):\n",
    "        self.name=name\n",
    "    def add_tricks(self,trick):\n",
    "        self.tricks.append(trick)"
   ]
  },
  {
   "cell_type": "code",
   "execution_count": 52,
   "id": "7f120ce4",
   "metadata": {},
   "outputs": [],
   "source": [
    "a=Dog(\"burno\")"
   ]
  },
  {
   "cell_type": "code",
   "execution_count": 53,
   "id": "0acf94d3",
   "metadata": {},
   "outputs": [],
   "source": [
    "b=Dog(\"Haichi\")"
   ]
  },
  {
   "cell_type": "code",
   "execution_count": 54,
   "id": "063aa29a",
   "metadata": {},
   "outputs": [],
   "source": [
    "a.add_tricks(\"jump\")\n",
    "a.add_tricks(\"run\")"
   ]
  },
  {
   "cell_type": "code",
   "execution_count": 55,
   "id": "99c1d61e",
   "metadata": {},
   "outputs": [
    {
     "data": {
      "text/plain": [
       "['jump', 'run']"
      ]
     },
     "execution_count": 55,
     "metadata": {},
     "output_type": "execute_result"
    }
   ],
   "source": [
    "a.tricks"
   ]
  },
  {
   "cell_type": "code",
   "execution_count": 56,
   "id": "be0164c8",
   "metadata": {},
   "outputs": [
    {
     "data": {
      "text/plain": [
       "['jump', 'run']"
      ]
     },
     "execution_count": 56,
     "metadata": {},
     "output_type": "execute_result"
    }
   ],
   "source": [
    "b.tricks                   #because they share same memory location because they are mutable"
   ]
  },
  {
   "cell_type": "code",
   "execution_count": 57,
   "id": "3d58e591",
   "metadata": {},
   "outputs": [
    {
     "data": {
      "text/plain": [
       "7594856"
      ]
     },
     "execution_count": 57,
     "metadata": {},
     "output_type": "execute_result"
    }
   ],
   "source": [
    "id(a.tricks)"
   ]
  },
  {
   "cell_type": "code",
   "execution_count": 58,
   "id": "4c6d8ecf",
   "metadata": {},
   "outputs": [
    {
     "data": {
      "text/plain": [
       "7594856"
      ]
     },
     "execution_count": 58,
     "metadata": {},
     "output_type": "execute_result"
    }
   ],
   "source": [
    "id(b.tricks)"
   ]
  },
  {
   "cell_type": "code",
   "execution_count": 59,
   "id": "4f8af8cf",
   "metadata": {},
   "outputs": [],
   "source": [
    "#solution\n",
    "class Dog:\n",
    "    def __init__(self,name):\n",
    "        self.name=name\n",
    "        self.tricks=[]\n",
    "    def add_tricks(self,trick):\n",
    "        self.tricks.append(trick)\n"
   ]
  },
  {
   "cell_type": "code",
   "execution_count": 60,
   "id": "9d92d563",
   "metadata": {},
   "outputs": [],
   "source": [
    "a=Dog(\"burno\")\n",
    "b=Dog(\"Haichi\")\n",
    "a.add_tricks(\"jump\")\n",
    "a.add_tricks(\"run\")"
   ]
  },
  {
   "cell_type": "code",
   "execution_count": 61,
   "id": "73fa09bb",
   "metadata": {},
   "outputs": [
    {
     "data": {
      "text/plain": [
       "['jump', 'run']"
      ]
     },
     "execution_count": 61,
     "metadata": {},
     "output_type": "execute_result"
    }
   ],
   "source": [
    "a.tricks"
   ]
  },
  {
   "cell_type": "code",
   "execution_count": 62,
   "id": "66d84fd0",
   "metadata": {},
   "outputs": [
    {
     "data": {
      "text/plain": [
       "[]"
      ]
     },
     "execution_count": 62,
     "metadata": {},
     "output_type": "execute_result"
    }
   ],
   "source": [
    "b.tricks"
   ]
  },
  {
   "cell_type": "code",
   "execution_count": 63,
   "id": "9246ffc8",
   "metadata": {},
   "outputs": [
    {
     "data": {
      "text/plain": [
       "96060520"
      ]
     },
     "execution_count": 63,
     "metadata": {},
     "output_type": "execute_result"
    }
   ],
   "source": [
    "id(a.tricks)"
   ]
  },
  {
   "cell_type": "code",
   "execution_count": 64,
   "id": "85c5d4d0",
   "metadata": {},
   "outputs": [
    {
     "data": {
      "text/plain": [
       "7569384"
      ]
     },
     "execution_count": 64,
     "metadata": {},
     "output_type": "execute_result"
    }
   ],
   "source": [
    "id(b.tricks)"
   ]
  },
  {
   "cell_type": "markdown",
   "id": "0c494289",
   "metadata": {},
   "source": [
    "# Inheritance"
   ]
  },
  {
   "cell_type": "code",
   "execution_count": 18,
   "id": "af6c218e",
   "metadata": {},
   "outputs": [],
   "source": [
    "class schoolmembers:\n",
    "    '''Represents any school member'''\n",
    "    def __init__(self,name,age):\n",
    "        self.name=name\n",
    "        self.age=age\n",
    "        print(f\"Initialised school member: {self.name}\")\n",
    "    def tell(self):\n",
    "        '''tell my details'''\n",
    "        print(f\"Name:{self.name} Age:{self.age}\",end=\" \")\n",
    "class teachers(schoolmembers):\n",
    "    '''represents a teacher'''\n",
    "    def __init__(self,name,age,salary):\n",
    "        super().__init__(name,age)        #function overriding which means extend the function   first method\n",
    "        self.salary=salary\n",
    "        print(\"Initialised teacher: {}\".format(self.name))\n",
    "    def tell(self):\n",
    "        super().tell()\n",
    "        print(\"Salary: {}\".format(self.salary))\n",
    "class students(schoolmembers):\n",
    "    '''represents a student'''\n",
    "    def __init__(self,name,age,marks):\n",
    "        schoolmembers.__init__(self,name,age)    #function overriding which means extend the function  second method\n",
    "        self.marks=marks\n",
    "        print(\"Initialised student: {}\".format(self.name))\n",
    "    def tell(self):\n",
    "        super().tell()\n",
    "        print(\"Marks: {}\".format(self.marks))\n",
    "        "
   ]
  },
  {
   "cell_type": "code",
   "execution_count": 19,
   "id": "4babac85",
   "metadata": {},
   "outputs": [
    {
     "name": "stdout",
     "output_type": "stream",
     "text": [
      "Initialised school member: Rounak\n",
      "Initialised teacher: Rounak\n",
      "Name:Rounak Age:34 Salary: 300000\n",
      "Initialised school member: Neogy\n",
      "Initialised student: Neogy\n",
      "Name:Neogy Age:19 Marks: 90\n"
     ]
    }
   ],
   "source": [
    "t=teachers(\"Rounak\",34,300000)\n",
    "t.tell()\n",
    "s=students(\"Neogy\",19,90)\n",
    "s.tell()"
   ]
  },
  {
   "cell_type": "markdown",
   "id": "06a2e230",
   "metadata": {},
   "source": [
    "## Diamond ambiguity"
   ]
  },
  {
   "cell_type": "code",
   "execution_count": 21,
   "id": "6e21a8ed",
   "metadata": {},
   "outputs": [],
   "source": [
    "class A:\n",
    "    x=10\n",
    "class B(A):\n",
    "    pass\n",
    "class C(A):\n",
    "    pass\n",
    "class D(C):\n",
    "    x=5\n",
    "class E(B,D):\n",
    "    pass"
   ]
  },
  {
   "cell_type": "code",
   "execution_count": 22,
   "id": "22ddf726",
   "metadata": {},
   "outputs": [
    {
     "data": {
      "text/plain": [
       "5"
      ]
     },
     "execution_count": 22,
     "metadata": {},
     "output_type": "execute_result"
    }
   ],
   "source": [
    "E.x     #because it follows C3 linearisation in which a node is executed if all"
   ]
  },
  {
   "cell_type": "code",
   "execution_count": 25,
   "id": "16f24ebd",
   "metadata": {},
   "outputs": [
    {
     "data": {
      "text/plain": [
       "(__main__.E, __main__.B, __main__.D, __main__.C, __main__.A, object)"
      ]
     },
     "execution_count": 25,
     "metadata": {},
     "output_type": "execute_result"
    }
   ],
   "source": [
    "E.__mro__      # it gives the order"
   ]
  },
  {
   "cell_type": "code",
   "execution_count": null,
   "id": "95c4a78d",
   "metadata": {},
   "outputs": [],
   "source": []
  }
 ],
 "metadata": {
  "kernelspec": {
   "display_name": "Python 3",
   "language": "python",
   "name": "python3"
  },
  "language_info": {
   "codemirror_mode": {
    "name": "ipython",
    "version": 3
   },
   "file_extension": ".py",
   "mimetype": "text/x-python",
   "name": "python",
   "nbconvert_exporter": "python",
   "pygments_lexer": "ipython3",
   "version": "3.8.3"
  }
 },
 "nbformat": 4,
 "nbformat_minor": 5
}
