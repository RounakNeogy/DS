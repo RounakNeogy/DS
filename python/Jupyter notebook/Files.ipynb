{
 "cells": [
  {
   "cell_type": "markdown",
   "id": "498e3d91",
   "metadata": {},
   "source": [
    "# Files\n",
    "\n",
    "r: read only \n",
    "<br/>\n",
    "r+: read and write\n",
    "<br/>\n",
    "w: write only\n",
    "<br/>\n",
    "w+: write and read only\n",
    "<br/>\n",
    "a: append only\n",
    "<br/>\n",
    "a+: append and read\n",
    "<br/>"
   ]
  },
  {
   "cell_type": "markdown",
   "id": "123b5dac",
   "metadata": {},
   "source": [
    "## Reading from a file"
   ]
  },
  {
   "cell_type": "code",
   "execution_count": 5,
   "id": "7b32146f",
   "metadata": {},
   "outputs": [
    {
     "data": {
      "text/plain": [
       "'Hello world'"
      ]
     },
     "execution_count": 5,
     "metadata": {},
     "output_type": "execute_result"
    }
   ],
   "source": [
    "file=open(\"hello.txt\",\"r\")\n",
    "file.read()\n"
   ]
  },
  {
   "cell_type": "code",
   "execution_count": 6,
   "id": "56043f46",
   "metadata": {},
   "outputs": [],
   "source": [
    "file.close()"
   ]
  },
  {
   "cell_type": "code",
   "execution_count": 8,
   "id": "f10dd494",
   "metadata": {},
   "outputs": [
    {
     "data": {
      "text/plain": [
       "'Hello'"
      ]
     },
     "execution_count": 8,
     "metadata": {},
     "output_type": "execute_result"
    }
   ],
   "source": [
    "file=open(\"hello.txt\",\"r\")\n",
    "file.read(5)  #it will read upto 5 bytes"
   ]
  },
  {
   "cell_type": "markdown",
   "id": "6094bcfa",
   "metadata": {},
   "source": [
    "- read()\n",
    "- readline()\n",
    "- readlines()"
   ]
  },
  {
   "cell_type": "code",
   "execution_count": 19,
   "id": "eb09aab4",
   "metadata": {},
   "outputs": [],
   "source": [
    "file=open(\"hello.txt\",\"r\")"
   ]
  },
  {
   "cell_type": "code",
   "execution_count": 20,
   "id": "40ddced5",
   "metadata": {},
   "outputs": [
    {
     "data": {
      "text/plain": [
       "'Hello\\n'"
      ]
     },
     "execution_count": 20,
     "metadata": {},
     "output_type": "execute_result"
    }
   ],
   "source": [
    "file.readline()  # it will read line by line"
   ]
  },
  {
   "cell_type": "code",
   "execution_count": 21,
   "id": "da998453",
   "metadata": {},
   "outputs": [],
   "source": [
    "file.close()"
   ]
  },
  {
   "cell_type": "code",
   "execution_count": 22,
   "id": "28bb1e49",
   "metadata": {},
   "outputs": [],
   "source": [
    "file=open(\"hello.txt\",\"r\")"
   ]
  },
  {
   "cell_type": "code",
   "execution_count": 23,
   "id": "83342d4c",
   "metadata": {},
   "outputs": [
    {
     "data": {
      "text/plain": [
       "['Hello\\n', 'hello world \\n', 'hello rishika\\n']"
      ]
     },
     "execution_count": 23,
     "metadata": {},
     "output_type": "execute_result"
    }
   ],
   "source": [
    "file.readlines() #reads all the lines"
   ]
  },
  {
   "cell_type": "code",
   "execution_count": 24,
   "id": "100f5980",
   "metadata": {},
   "outputs": [],
   "source": [
    "file.close()"
   ]
  },
  {
   "cell_type": "code",
   "execution_count": null,
   "id": "80a79c92",
   "metadata": {},
   "outputs": [],
   "source": []
  },
  {
   "cell_type": "markdown",
   "id": "5fc5b7f5",
   "metadata": {},
   "source": [
    "## Writing from a file"
   ]
  },
  {
   "cell_type": "code",
   "execution_count": 17,
   "id": "f0502574",
   "metadata": {},
   "outputs": [
    {
     "data": {
      "text/plain": [
       "26"
      ]
     },
     "execution_count": 17,
     "metadata": {},
     "output_type": "execute_result"
    }
   ],
   "source": [
    "file=open(\"something.txt\",\"w\") #if this file does not exist then it will create the file \n",
    "file.write(\"Hi there i am rounak neogy\")  #it will write in the file and it returns the number of bytes written "
   ]
  },
  {
   "cell_type": "code",
   "execution_count": 18,
   "id": "c5c95bc9",
   "metadata": {},
   "outputs": [],
   "source": [
    "file.close()"
   ]
  },
  {
   "cell_type": "markdown",
   "id": "60282e28",
   "metadata": {},
   "source": [
    "## seek function"
   ]
  },
  {
   "cell_type": "code",
   "execution_count": 2,
   "id": "475c0f94",
   "metadata": {},
   "outputs": [
    {
     "data": {
      "text/plain": [
       "'Hello'"
      ]
     },
     "execution_count": 2,
     "metadata": {},
     "output_type": "execute_result"
    }
   ],
   "source": [
    "file=open(\"hello.txt\",\"r\")\n",
    "file.read(5)"
   ]
  },
  {
   "cell_type": "code",
   "execution_count": 3,
   "id": "e4e2cd75",
   "metadata": {},
   "outputs": [
    {
     "data": {
      "text/plain": [
       "'\\nhello world \\nhello rishika\\n'"
      ]
     },
     "execution_count": 3,
     "metadata": {},
     "output_type": "execute_result"
    }
   ],
   "source": [
    "file.read()"
   ]
  },
  {
   "cell_type": "code",
   "execution_count": 4,
   "id": "f7862eeb",
   "metadata": {},
   "outputs": [
    {
     "data": {
      "text/plain": [
       "0"
      ]
     },
     "execution_count": 4,
     "metadata": {},
     "output_type": "execute_result"
    }
   ],
   "source": [
    "file.seek(0) #it takes the cursor to the specified index"
   ]
  },
  {
   "cell_type": "code",
   "execution_count": 5,
   "id": "5d9534f2",
   "metadata": {},
   "outputs": [
    {
     "data": {
      "text/plain": [
       "'Hello\\nhello world \\nhello rishika\\n'"
      ]
     },
     "execution_count": 5,
     "metadata": {},
     "output_type": "execute_result"
    }
   ],
   "source": [
    "file.read()   "
   ]
  },
  {
   "cell_type": "code",
   "execution_count": 6,
   "id": "d1fca037",
   "metadata": {},
   "outputs": [],
   "source": [
    "file.close()"
   ]
  },
  {
   "cell_type": "markdown",
   "id": "94c8bad9",
   "metadata": {},
   "source": [
    "## Smater way to open files"
   ]
  },
  {
   "cell_type": "code",
   "execution_count": 2,
   "id": "3e5b5e45",
   "metadata": {},
   "outputs": [
    {
     "name": "stdout",
     "output_type": "stream",
     "text": [
      "Hello\n",
      "hello world \n",
      "hello rishika\n",
      "\n",
      "\n",
      "hello world \n",
      "hello rishika\n",
      "\n"
     ]
    }
   ],
   "source": [
    "with open(\"hello.txt\",\"r\") as file:   #we do not need the close function because after the with block is over the file will close itself\n",
    "    print(file.read())\n",
    "    file.seek(5)\n",
    "    print(file.read())\n",
    "    "
   ]
  },
  {
   "cell_type": "code",
   "execution_count": null,
   "id": "a9a0f384",
   "metadata": {},
   "outputs": [],
   "source": []
  }
 ],
 "metadata": {
  "kernelspec": {
   "display_name": "Python 3",
   "language": "python",
   "name": "python3"
  },
  "language_info": {
   "codemirror_mode": {
    "name": "ipython",
    "version": 3
   },
   "file_extension": ".py",
   "mimetype": "text/x-python",
   "name": "python",
   "nbconvert_exporter": "python",
   "pygments_lexer": "ipython3",
   "version": "3.8.3"
  }
 },
 "nbformat": 4,
 "nbformat_minor": 5
}
