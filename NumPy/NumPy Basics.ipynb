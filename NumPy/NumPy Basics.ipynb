{
 "cells": [
  {
   "cell_type": "code",
   "execution_count": 1,
   "id": "3caa628a",
   "metadata": {},
   "outputs": [],
   "source": [
    "import numpy as np"
   ]
  },
  {
   "cell_type": "code",
   "execution_count": 4,
   "id": "303ffc36",
   "metadata": {},
   "outputs": [
    {
     "name": "stdout",
     "output_type": "stream",
     "text": [
      "[1 2 3 4 5]\n",
      "<class 'numpy.ndarray'>\n",
      "(5,)\n"
     ]
    }
   ],
   "source": [
    "a=np.array([1,2,3,4,5])  #we can create arrays like this in numpy\n",
    "print(a)                 #indexing starts from 0\n",
    "print(type(a))\n",
    "print(a.shape)         #shape is give by a tuple indicating how many rows and columns \n",
    "                       #if it is one dimensional then the shape is written as (no of elements,)"
   ]
  },
  {
   "cell_type": "code",
   "execution_count": 5,
   "id": "8ea800f0",
   "metadata": {},
   "outputs": [
    {
     "name": "stdout",
     "output_type": "stream",
     "text": [
      "[[1]\n",
      " [2]\n",
      " [3]\n",
      " [4]\n",
      " [5]]\n",
      "(5, 1)\n"
     ]
    }
   ],
   "source": [
    "b=np.array([[1],[2],[3],[4],[5]])\n",
    "print(b)\n",
    "print(b.shape)              #it has 5 rows and 1 column"
   ]
  },
  {
   "cell_type": "code",
   "execution_count": 6,
   "id": "728e04ad",
   "metadata": {},
   "outputs": [
    {
     "name": "stdout",
     "output_type": "stream",
     "text": [
      "[[1 2 3]\n",
      " [4 5 6]]\n",
      "(2, 3)\n",
      "5\n"
     ]
    }
   ],
   "source": [
    "c=np.array([[1,2,3],[4,5,6]])\n",
    "print(c)\n",
    "print(c.shape)\n",
    "print(c[1][1])"
   ]
  },
  {
   "cell_type": "code",
   "execution_count": 18,
   "id": "dc2b176c",
   "metadata": {},
   "outputs": [
    {
     "name": "stdout",
     "output_type": "stream",
     "text": [
      "[[0. 0. 0.]\n",
      " [0. 0. 0.]\n",
      " [0. 0. 0.]]\n",
      "[[1. 1. 1. 1.]\n",
      " [1. 1. 1. 1.]\n",
      " [1. 1. 1. 1.]]\n",
      "[[5 5 5]\n",
      " [5 5 5]]\n",
      "[[1. 0. 0. 0.]\n",
      " [0. 1. 0. 0.]\n",
      " [0. 0. 1. 0.]\n",
      " [0. 0. 0. 1.]]\n",
      "[[0.18713989 0.76467735 0.41747987]\n",
      " [0.69428153 0.19719601 0.32315732]]\n"
     ]
    }
   ],
   "source": [
    "#Create zeros,ones, and custom array\n",
    "a=np.zeros((3,3))  #we are giving the shape of the array\n",
    "print(a)            #by default the array is in float\n",
    "b=np.ones((3,4))\n",
    "print(b)\n",
    "#array of some constant \n",
    "c=np.full((2,3),5)   #here we are also passing the element which i want to pass\n",
    "print(c)\n",
    "#identity matrix\n",
    "d=np.eye(4)       #as identity matrix is a square matrix we only have to give the size\n",
    "print(d)\n",
    "\n",
    "#random matrix\n",
    "randomMatrix=np.random.random((2,3))    \n",
    "print(randomMatrix)"
   ]
  },
  {
   "cell_type": "code",
   "execution_count": 22,
   "id": "f4692b28",
   "metadata": {},
   "outputs": [
    {
     "name": "stdout",
     "output_type": "stream",
     "text": [
      "[0.76467735 0.19719601]\n"
     ]
    }
   ],
   "source": [
    "print(randomMatrix[ : ,1])   #here we have to give all the dimensions of the matrix\n",
    "                             #here [ : ,1] means all rows and column 1"
   ]
  },
  {
   "cell_type": "code",
   "execution_count": 23,
   "id": "09098d03",
   "metadata": {},
   "outputs": [
    {
     "name": "stdout",
     "output_type": "stream",
     "text": [
      "[0.19719601 0.32315732]\n"
     ]
    }
   ],
   "source": [
    "print(randomMatrix[1,1:])   #this means row 1 and all columns staring form column 1 "
   ]
  },
  {
   "cell_type": "code",
   "execution_count": 24,
   "id": "35b77065",
   "metadata": {},
   "outputs": [
    {
     "name": "stdout",
     "output_type": "stream",
     "text": [
      "[[0.06045913 0.19553278 0.99306484 0.70085841]\n",
      " [0.47680298 0.29591593 0.66019981 0.78539111]\n",
      " [0.13336351 0.37491986 0.22391257 0.49490429]]\n"
     ]
    }
   ],
   "source": [
    "m=np.random.random((3,4))\n",
    "print(m)"
   ]
  },
  {
   "cell_type": "code",
   "execution_count": 28,
   "id": "95d22c97",
   "metadata": {},
   "outputs": [
    {
     "name": "stdout",
     "output_type": "stream",
     "text": [
      "[[0.06045913 0.19553278 0.99306484 0.70085841]\n",
      " [0.47680298 1.         1.         0.78539111]\n",
      " [0.13336351 0.37491986 0.22391257 0.49490429]]\n"
     ]
    }
   ],
   "source": [
    "#we want change the value of m[1][1] and m[2][1] to 1\n",
    "m[1,1:3]=1\n",
    "print(m)"
   ]
  },
  {
   "cell_type": "code",
   "execution_count": 33,
   "id": "4db77004",
   "metadata": {},
   "outputs": [
    {
     "name": "stdout",
     "output_type": "stream",
     "text": [
      "[[0. 0. 0.]\n",
      " [0. 0. 0.]\n",
      " [0. 0. 0.]]\n",
      "[[0. 0. 7.]\n",
      " [5. 5. 7.]\n",
      " [0. 0. 7.]]\n"
     ]
    }
   ],
   "source": [
    "#set some rows and columns with any value\n",
    "z=np.zeros((3,3)) \n",
    "print(z)\n",
    "z[1,:]=5\n",
    "z[:,-1]=7          #we can also access the last column with -1\n",
    "print(z)"
   ]
  },
  {
   "cell_type": "code",
   "execution_count": 34,
   "id": "5b1b58ef",
   "metadata": {},
   "outputs": [
    {
     "name": "stdout",
     "output_type": "stream",
     "text": [
      "float64\n"
     ]
    }
   ],
   "source": [
    "#datatype\n",
    "print(z.dtype)"
   ]
  },
  {
   "cell_type": "code",
   "execution_count": 38,
   "id": "d78bbaac",
   "metadata": {},
   "outputs": [
    {
     "name": "stdout",
     "output_type": "stream",
     "text": [
      "[[0 0 0]\n",
      " [0 0 0]\n",
      " [0 0 0]]\n",
      "int64\n"
     ]
    }
   ],
   "source": [
    "#we can change the data type\n",
    "z=np.zeros((3,3),dtype=np.int64)\n",
    "print(z)\n",
    "print(z.dtype)"
   ]
  },
  {
   "cell_type": "code",
   "execution_count": 42,
   "id": "4721387f",
   "metadata": {},
   "outputs": [
    {
     "name": "stdout",
     "output_type": "stream",
     "text": [
      "[[ 6  8]\n",
      " [10 12]]\n",
      "[[ 6  8]\n",
      " [10 12]]\n",
      "[[-4 -4]\n",
      " [-4 -4]]\n",
      "[[-4 -4]\n",
      " [-4 -4]]\n",
      "[[ 5 12]\n",
      " [21 32]]\n",
      "[[ 5 12]\n",
      " [21 32]]\n",
      "[[0.2        0.33333333]\n",
      " [0.42857143 0.5       ]]\n",
      "[[0.2        0.33333333]\n",
      " [0.42857143 0.5       ]]\n"
     ]
    }
   ],
   "source": [
    "#mathematical operations\n",
    "x=np.array([[1,2],[3,4]])\n",
    "y=np.array([[5,6],[7,8]])\n",
    "#Elementwise addition\n",
    "print(x+y)\n",
    "print(np.add(x,y))\n",
    "#Elementwise subtraction\n",
    "print(x-y)\n",
    "print(np.subtract(x,y))\n",
    "#Elementwise multupication\n",
    "print(x*y)\n",
    "print(np.multiply(x,y))\n",
    "#Elementwise division\n",
    "print(x/y)\n",
    "print(np.divide(x,y))"
   ]
  },
  {
   "cell_type": "code",
   "execution_count": 43,
   "id": "21021490",
   "metadata": {},
   "outputs": [
    {
     "name": "stdout",
     "output_type": "stream",
     "text": [
      "[[1.         1.41421356]\n",
      " [1.73205081 2.        ]]\n"
     ]
    }
   ],
   "source": [
    "#Elementwise square root\n",
    "print(np.sqrt(x))"
   ]
  },
  {
   "cell_type": "code",
   "execution_count": 47,
   "id": "d2dcb4b2",
   "metadata": {},
   "outputs": [
    {
     "name": "stdout",
     "output_type": "stream",
     "text": [
      "[[1 2]\n",
      " [3 4]]\n",
      "[[5 6]\n",
      " [7 8]]\n",
      "[[19 22]\n",
      " [43 50]]\n",
      "[[19 22]\n",
      " [43 50]]\n"
     ]
    }
   ],
   "source": [
    "#matrix multiplication and dot product\n",
    "print(x)\n",
    "print(y)\n",
    "print(x.dot(y))\n",
    "print(np.dot(x,y))"
   ]
  },
  {
   "cell_type": "code",
   "execution_count": 48,
   "id": "d0fa8718",
   "metadata": {},
   "outputs": [
    {
     "name": "stdout",
     "output_type": "stream",
     "text": [
      "70\n"
     ]
    }
   ],
   "source": [
    "#Multiplication(or dot product) of vectors => scalar\n",
    "a=np.array([1,2,3,4])\n",
    "b=np.array([5,6,7,8])\n",
    "print(np.dot(a,b))"
   ]
  },
  {
   "cell_type": "code",
   "execution_count": 49,
   "id": "b77cdd79",
   "metadata": {},
   "outputs": [
    {
     "name": "stdout",
     "output_type": "stream",
     "text": [
      "10\n"
     ]
    }
   ],
   "source": [
    "print(sum(a))     #sum of all the elements of a"
   ]
  },
  {
   "cell_type": "code",
   "execution_count": 50,
   "id": "72cd765a",
   "metadata": {},
   "outputs": [
    {
     "name": "stdout",
     "output_type": "stream",
     "text": [
      "[[1 2]\n",
      " [3 4]]\n"
     ]
    }
   ],
   "source": [
    "print(x)"
   ]
  },
  {
   "cell_type": "code",
   "execution_count": 54,
   "id": "ea2d4ee9",
   "metadata": {},
   "outputs": [
    {
     "name": "stdout",
     "output_type": "stream",
     "text": [
      "10\n",
      "[4 6]\n",
      "[3 7]\n"
     ]
    }
   ],
   "source": [
    "print(np.sum(x))    #sum of all the elements\n",
    "print(np.sum(x,axis=0))  #sum along column\n",
    "print(np.sum(x,axis=1))  #sum along row"
   ]
  },
  {
   "cell_type": "code",
   "execution_count": 55,
   "id": "fd2ca379",
   "metadata": {},
   "outputs": [
    {
     "name": "stdout",
     "output_type": "stream",
     "text": [
      "[1 2 3 4]\n",
      "[5 6 7 8]\n"
     ]
    }
   ],
   "source": [
    "#stacking of arrays\n",
    "print(a)\n",
    "print(b)"
   ]
  },
  {
   "cell_type": "code",
   "execution_count": 59,
   "id": "9113cfa8",
   "metadata": {},
   "outputs": [
    {
     "data": {
      "text/plain": [
       "array([[1, 5],\n",
       "       [2, 6],\n",
       "       [3, 7],\n",
       "       [4, 8]])"
      ]
     },
     "execution_count": 59,
     "metadata": {},
     "output_type": "execute_result"
    }
   ],
   "source": [
    "np.stack((a,b),axis=1)  # first array becomes the first column and the second array becomes the second column"
   ]
  },
  {
   "cell_type": "code",
   "execution_count": 62,
   "id": "03883f6f",
   "metadata": {},
   "outputs": [],
   "source": [
    "a=np.stack((a,b),axis=0) #first array becomes the first row and the second array becomes the second row"
   ]
  },
  {
   "cell_type": "code",
   "execution_count": 67,
   "id": "54dd8fcd",
   "metadata": {},
   "outputs": [
    {
     "name": "stdout",
     "output_type": "stream",
     "text": [
      "[[1 2]\n",
      " [3 4]\n",
      " [5 6]\n",
      " [7 8]]\n",
      "[[1 2]\n",
      " [3 4]\n",
      " [5 6]\n",
      " [7 8]]\n"
     ]
    }
   ],
   "source": [
    "# Reshape a numpy array\n",
    "print(a)\n",
    "print(a.reshape((4,2)))\n",
    "a=a.reshape(4,2);"
   ]
  },
  {
   "cell_type": "code",
   "execution_count": 68,
   "id": "ed534950",
   "metadata": {},
   "outputs": [
    {
     "name": "stdout",
     "output_type": "stream",
     "text": [
      "[1 2 3 4 5 6 7 8]\n"
     ]
    }
   ],
   "source": [
    "print(a.reshape(8,))"
   ]
  },
  {
   "cell_type": "code",
   "execution_count": 69,
   "id": "6d0469ae",
   "metadata": {},
   "outputs": [
    {
     "name": "stdout",
     "output_type": "stream",
     "text": [
      "[[1]\n",
      " [2]\n",
      " [3]\n",
      " [4]\n",
      " [5]\n",
      " [6]\n",
      " [7]\n",
      " [8]]\n"
     ]
    }
   ],
   "source": [
    "print(a.reshape(8,1))"
   ]
  },
  {
   "cell_type": "code",
   "execution_count": 70,
   "id": "6a71ef7b",
   "metadata": {},
   "outputs": [
    {
     "name": "stdout",
     "output_type": "stream",
     "text": [
      "[[1 2]\n",
      " [3 4]\n",
      " [5 6]\n",
      " [7 8]]\n"
     ]
    }
   ],
   "source": [
    "#if we don't know how many colums should be there but know that there will be 4 rows then\n",
    "print(a.reshape(4,-1))  #numpy will figure it on its own"
   ]
  },
  {
   "cell_type": "code",
   "execution_count": 71,
   "id": "24bdcf4e",
   "metadata": {},
   "outputs": [
    {
     "name": "stdout",
     "output_type": "stream",
     "text": [
      "[[1 2 3 4]\n",
      " [5 6 7 8]]\n"
     ]
    }
   ],
   "source": [
    "#if we don't know how many rows should be there but know that there will be 4 columns then\n",
    "print(a.reshape(-1,4))"
   ]
  },
  {
   "cell_type": "code",
   "execution_count": null,
   "id": "077546d8",
   "metadata": {},
   "outputs": [],
   "source": []
  }
 ],
 "metadata": {
  "kernelspec": {
   "display_name": "Python 3",
   "language": "python",
   "name": "python3"
  },
  "language_info": {
   "codemirror_mode": {
    "name": "ipython",
    "version": 3
   },
   "file_extension": ".py",
   "mimetype": "text/x-python",
   "name": "python",
   "nbconvert_exporter": "python",
   "pygments_lexer": "ipython3",
   "version": "3.8.3"
  }
 },
 "nbformat": 4,
 "nbformat_minor": 5
}
