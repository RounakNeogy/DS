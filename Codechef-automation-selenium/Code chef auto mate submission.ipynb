{
 "cells": [
  {
   "cell_type": "code",
   "execution_count": 2,
   "id": "c8d7514c",
   "metadata": {},
   "outputs": [],
   "source": [
    "from selenium import webdriver"
   ]
  },
  {
   "cell_type": "code",
   "execution_count": 3,
   "id": "d2f87730",
   "metadata": {},
   "outputs": [],
   "source": [
    "browser=webdriver.Chrome(r'C:\\Users\\ASUS\\OneDrive\\Desktop\\chromedriver.exe')"
   ]
  },
  {
   "cell_type": "code",
   "execution_count": 4,
   "id": "179e8c66",
   "metadata": {},
   "outputs": [],
   "source": [
    "browser.get(\"https://www.codechef.com/\")"
   ]
  },
  {
   "cell_type": "code",
   "execution_count": 5,
   "id": "23c8c7e0",
   "metadata": {},
   "outputs": [],
   "source": [
    "username_element=browser.find_element_by_id(\"edit-name\")"
   ]
  },
  {
   "cell_type": "code",
   "execution_count": 6,
   "id": "2c99201c",
   "metadata": {},
   "outputs": [],
   "source": [
    "username_element.send_keys(\"Your id\")"
   ]
  },
  {
   "cell_type": "code",
   "execution_count": 7,
   "id": "78894897",
   "metadata": {},
   "outputs": [],
   "source": [
    "password_element=browser.find_element_by_id(\"edit-pass\")"
   ]
  },
  {
   "cell_type": "code",
   "execution_count": 8,
   "id": "c7398101",
   "metadata": {},
   "outputs": [],
   "source": [
    "from getpass import getpass"
   ]
  },
  {
   "cell_type": "code",
   "execution_count": 9,
   "id": "f1ab738e",
   "metadata": {},
   "outputs": [
    {
     "name": "stdout",
     "output_type": "stream",
     "text": [
      "Enter password:········\n"
     ]
    }
   ],
   "source": [
    "password_element.send_keys(getpass(\"Enter password:\"))"
   ]
  },
  {
   "cell_type": "code",
   "execution_count": 33,
   "id": "76985651",
   "metadata": {},
   "outputs": [],
   "source": [
    "browser.find_element_by_id(\"edit-submit\").click()"
   ]
  },
  {
   "cell_type": "code",
   "execution_count": 47,
   "id": "ff63147f",
   "metadata": {},
   "outputs": [],
   "source": [
    "browser.get(\"https://www.codechef.com/submit/IRSTXOR\")"
   ]
  },
  {
   "cell_type": "code",
   "execution_count": 48,
   "id": "0911020b",
   "metadata": {},
   "outputs": [],
   "source": [
    "browser.find_element_by_id(\"edit-submit\").click()"
   ]
  },
  {
   "cell_type": "code",
   "execution_count": 49,
   "id": "6e85e630",
   "metadata": {},
   "outputs": [],
   "source": [
    "browser.find_element_by_id(\"edit_area_toggle_checkbox_edit-program\").click()"
   ]
  },
  {
   "cell_type": "code",
   "execution_count": 50,
   "id": "fc7e20df",
   "metadata": {},
   "outputs": [],
   "source": [
    "with open(\"interesting XOR.cpp\") as f:\n",
    "    code=f.read()"
   ]
  },
  {
   "cell_type": "code",
   "execution_count": 51,
   "id": "9c50a770",
   "metadata": {},
   "outputs": [
    {
     "data": {
      "text/plain": [
       "'#include<iostream>\\n#include<math.h>\\nusing namespace std;\\nint main()\\n{\\n    int t;\\n    cin>>t;\\n    while(t--)\\n    {\\n        int c;\\n        cin>>c;\\n        int d=c;\\n        int count=0;\\n        while(d!=0)\\n        {\\n            d=d>>1;\\n            count++;\\n        }\\n        int b=pow(2,count-1)-1;\\n        int a=c^b;\\n        cout<<(long long)(a*b)<<endl;\\n    }\\n}\\n'"
      ]
     },
     "execution_count": 51,
     "metadata": {},
     "output_type": "execute_result"
    }
   ],
   "source": [
    "code"
   ]
  },
  {
   "cell_type": "code",
   "execution_count": 52,
   "id": "8c0de22d",
   "metadata": {},
   "outputs": [],
   "source": [
    "code_element=browser.find_element_by_id(\"edit-program\")"
   ]
  },
  {
   "cell_type": "code",
   "execution_count": 53,
   "id": "00e00816",
   "metadata": {},
   "outputs": [],
   "source": [
    "code_element.send_keys(code)"
   ]
  },
  {
   "cell_type": "code",
   "execution_count": 58,
   "id": "5b158693",
   "metadata": {},
   "outputs": [],
   "source": [
    "browser.find_element_by_xpath('//*[@id=\"edit-language\"]/option[1]').click()"
   ]
  },
  {
   "cell_type": "code",
   "execution_count": 59,
   "id": "abb85303",
   "metadata": {},
   "outputs": [],
   "source": [
    "browser.find_element_by_id(\"edit-submit-1\").click()"
   ]
  },
  {
   "cell_type": "code",
   "execution_count": null,
   "id": "7614bcdf",
   "metadata": {},
   "outputs": [],
   "source": []
  }
 ],
 "metadata": {
  "kernelspec": {
   "display_name": "Python 3",
   "language": "python",
   "name": "python3"
  },
  "language_info": {
   "codemirror_mode": {
    "name": "ipython",
    "version": 3
   },
   "file_extension": ".py",
   "mimetype": "text/x-python",
   "name": "python",
   "nbconvert_exporter": "python",
   "pygments_lexer": "ipython3",
   "version": "3.8.3"
  }
 },
 "nbformat": 4,
 "nbformat_minor": 5
}
