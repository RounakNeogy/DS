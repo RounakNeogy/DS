{
 "cells": [
  {
   "cell_type": "code",
   "execution_count": 2,
   "id": "f934c34b",
   "metadata": {},
   "outputs": [],
   "source": [
    "import requests"
   ]
  },
  {
   "cell_type": "code",
   "execution_count": 23,
   "id": "fb64dd66",
   "metadata": {},
   "outputs": [],
   "source": [
    "url=\"https://pastebin.com/api/api_post.php\""
   ]
  },
  {
   "cell_type": "code",
   "execution_count": 24,
   "id": "90369647",
   "metadata": {},
   "outputs": [],
   "source": [
    "parameters={\n",
    "    'api_dev_key' : 'Sn6vk_0DTdMVkkj7auXrFquxA7ANDKCR',\n",
    "    'api_option' : 'paste',\n",
    "    'api_paste_code' : 'print(\"HELLO RISHU\")',\n",
    "    'api_paste_format': 'python'\n",
    "}"
   ]
  },
  {
   "cell_type": "code",
   "execution_count": 25,
   "id": "d7628442",
   "metadata": {},
   "outputs": [],
   "source": [
    "r=requests.post(url,params=parameters)"
   ]
  },
  {
   "cell_type": "code",
   "execution_count": 26,
   "id": "471eb9fc",
   "metadata": {},
   "outputs": [
    {
     "data": {
      "text/plain": [
       "'https://pastebin.com/api/api_post.php?api_dev_key=Sn6vk_0DTdMVkkj7auXrFquxA7ANDKCR&api_option=paste&api_paste_code=print%28%22HELLO+RISHU%22%29&api_paste_format=python'"
      ]
     },
     "execution_count": 26,
     "metadata": {},
     "output_type": "execute_result"
    }
   ],
   "source": [
    "r.url"
   ]
  },
  {
   "cell_type": "code",
   "execution_count": 27,
   "id": "d8607476",
   "metadata": {},
   "outputs": [
    {
     "data": {
      "text/plain": [
       "b'Bad API request, invalid api_dev_key'"
      ]
     },
     "execution_count": 27,
     "metadata": {},
     "output_type": "execute_result"
    }
   ],
   "source": [
    "r.content"
   ]
  },
  {
   "cell_type": "code",
   "execution_count": 28,
   "id": "8e9f0a55",
   "metadata": {},
   "outputs": [
    {
     "name": "stdout",
     "output_type": "stream",
     "text": [
      "<Response [422]>\n"
     ]
    }
   ],
   "source": [
    "print(r)"
   ]
  },
  {
   "cell_type": "code",
   "execution_count": 29,
   "id": "5c9263b2",
   "metadata": {},
   "outputs": [
    {
     "name": "stdout",
     "output_type": "stream",
     "text": [
      "<class 'str'>\n"
     ]
    }
   ],
   "source": [
    "pastebin_url=r.text\n",
    "print(type(pastebin_url))"
   ]
  },
  {
   "cell_type": "code",
   "execution_count": 30,
   "id": "ea3b1b93",
   "metadata": {},
   "outputs": [
    {
     "name": "stdout",
     "output_type": "stream",
     "text": [
      "Bad API request, invalid api_dev_key\n"
     ]
    }
   ],
   "source": [
    "print(pastebin_url)"
   ]
  },
  {
   "cell_type": "code",
   "execution_count": null,
   "id": "74933d13",
   "metadata": {},
   "outputs": [],
   "source": []
  }
 ],
 "metadata": {
  "kernelspec": {
   "display_name": "Python 3",
   "language": "python",
   "name": "python3"
  },
  "language_info": {
   "codemirror_mode": {
    "name": "ipython",
    "version": 3
   },
   "file_extension": ".py",
   "mimetype": "text/x-python",
   "name": "python",
   "nbconvert_exporter": "python",
   "pygments_lexer": "ipython3",
   "version": "3.8.3"
  }
 },
 "nbformat": 4,
 "nbformat_minor": 5
}
