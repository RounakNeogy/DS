{
 "cells": [
  {
   "cell_type": "markdown",
   "id": "47e77c7a",
   "metadata": {},
   "source": [
    "![](pic1.jpeg)"
   ]
  },
  {
   "cell_type": "markdown",
   "id": "fe226fbd",
   "metadata": {},
   "source": [
    "![](pic2.jpeg)"
   ]
  },
  {
   "cell_type": "markdown",
   "id": "b1afdc5e",
   "metadata": {},
   "source": [
    "![](pic3.jpeg)"
   ]
  },
  {
   "cell_type": "code",
   "execution_count": 1,
   "id": "015477c6",
   "metadata": {},
   "outputs": [],
   "source": [
    "from urllib.request import urlopen"
   ]
  },
  {
   "cell_type": "code",
   "execution_count": 2,
   "id": "04528cd1",
   "metadata": {},
   "outputs": [],
   "source": [
    "url=\"http://api.openweathermap.org/data/2.5/weather?q=London,uk&APPID=9d4f5f3041f4cd4efe192635a45e74e6\""
   ]
  },
  {
   "cell_type": "code",
   "execution_count": 3,
   "id": "7a6a3ace",
   "metadata": {},
   "outputs": [],
   "source": [
    "url_request=urlopen(url)"
   ]
  },
  {
   "cell_type": "code",
   "execution_count": 4,
   "id": "92f43ccb",
   "metadata": {},
   "outputs": [
    {
     "name": "stdout",
     "output_type": "stream",
     "text": [
      "b'{\"coord\":{\"lon\":-0.1257,\"lat\":51.5085},\"weather\":[{\"id\":803,\"main\":\"Clouds\",\"description\":\"broken clouds\",\"icon\":\"04d\"}],\"base\":\"stations\",\"main\":{\"temp\":282.27,\"feels_like\":279.58,\"temp_min\":281.15,\"temp_max\":283.15,\"pressure\":1009,\"humidity\":61},\"visibility\":10000,\"wind\":{\"speed\":5.14,\"deg\":260},\"clouds\":{\"all\":75},\"dt\":1620205665,\"sys\":{\"type\":1,\"id\":1414,\"country\":\"GB\",\"sunrise\":1620188686,\"sunset\":1620242972},\"timezone\":3600,\"id\":2643743,\"name\":\"London\",\"cod\":200}'\n"
     ]
    }
   ],
   "source": [
    "data=url_request.read()\n",
    "print(data)"
   ]
  },
  {
   "cell_type": "code",
   "execution_count": 5,
   "id": "fd986f52",
   "metadata": {},
   "outputs": [],
   "source": [
    "import json"
   ]
  },
  {
   "cell_type": "code",
   "execution_count": 6,
   "id": "e26e3dcf",
   "metadata": {},
   "outputs": [],
   "source": [
    "json_data=json.loads(data)"
   ]
  },
  {
   "cell_type": "code",
   "execution_count": 7,
   "id": "8a0190cb",
   "metadata": {},
   "outputs": [
    {
     "name": "stdout",
     "output_type": "stream",
     "text": [
      "{'coord': {'lon': -0.1257, 'lat': 51.5085}, 'weather': [{'id': 803, 'main': 'Clouds', 'description': 'broken clouds', 'icon': '04d'}], 'base': 'stations', 'main': {'temp': 282.27, 'feels_like': 279.58, 'temp_min': 281.15, 'temp_max': 283.15, 'pressure': 1009, 'humidity': 61}, 'visibility': 10000, 'wind': {'speed': 5.14, 'deg': 260}, 'clouds': {'all': 75}, 'dt': 1620205665, 'sys': {'type': 1, 'id': 1414, 'country': 'GB', 'sunrise': 1620188686, 'sunset': 1620242972}, 'timezone': 3600, 'id': 2643743, 'name': 'London', 'cod': 200}\n"
     ]
    }
   ],
   "source": [
    "print(json_data)"
   ]
  },
  {
   "cell_type": "code",
   "execution_count": 8,
   "id": "03bc1b81",
   "metadata": {},
   "outputs": [
    {
     "data": {
      "text/plain": [
       "{'lon': -0.1257, 'lat': 51.5085}"
      ]
     },
     "execution_count": 8,
     "metadata": {},
     "output_type": "execute_result"
    }
   ],
   "source": [
    "json_data['coord']"
   ]
  },
  {
   "cell_type": "code",
   "execution_count": 9,
   "id": "c5ab298b",
   "metadata": {},
   "outputs": [
    {
     "data": {
      "text/plain": [
       "'London'"
      ]
     },
     "execution_count": 9,
     "metadata": {},
     "output_type": "execute_result"
    }
   ],
   "source": [
    "json_data['name']"
   ]
  },
  {
   "cell_type": "code",
   "execution_count": 10,
   "id": "e69fb4a2",
   "metadata": {},
   "outputs": [],
   "source": [
    "json_string=json.dumps(json_data)"
   ]
  },
  {
   "cell_type": "code",
   "execution_count": 11,
   "id": "863d5c1f",
   "metadata": {},
   "outputs": [
    {
     "name": "stdout",
     "output_type": "stream",
     "text": [
      "{\"coord\": {\"lon\": -0.1257, \"lat\": 51.5085}, \"weather\": [{\"id\": 803, \"main\": \"Clouds\", \"description\": \"broken clouds\", \"icon\": \"04d\"}], \"base\": \"stations\", \"main\": {\"temp\": 282.27, \"feels_like\": 279.58, \"temp_min\": 281.15, \"temp_max\": 283.15, \"pressure\": 1009, \"humidity\": 61}, \"visibility\": 10000, \"wind\": {\"speed\": 5.14, \"deg\": 260}, \"clouds\": {\"all\": 75}, \"dt\": 1620205665, \"sys\": {\"type\": 1, \"id\": 1414, \"country\": \"GB\", \"sunrise\": 1620188686, \"sunset\": 1620242972}, \"timezone\": 3600, \"id\": 2643743, \"name\": \"London\", \"cod\": 200}\n",
      "<class 'str'>\n"
     ]
    }
   ],
   "source": [
    "print(json_string)\n",
    "print(type(json_string))"
   ]
  },
  {
   "cell_type": "code",
   "execution_count": 12,
   "id": "665dd7ed",
   "metadata": {},
   "outputs": [],
   "source": [
    "url_request.close()"
   ]
  },
  {
   "cell_type": "code",
   "execution_count": null,
   "id": "1c2e58e5",
   "metadata": {},
   "outputs": [],
   "source": []
  }
 ],
 "metadata": {
  "kernelspec": {
   "display_name": "Python 3",
   "language": "python",
   "name": "python3"
  },
  "language_info": {
   "codemirror_mode": {
    "name": "ipython",
    "version": 3
   },
   "file_extension": ".py",
   "mimetype": "text/x-python",
   "name": "python",
   "nbconvert_exporter": "python",
   "pygments_lexer": "ipython3",
   "version": "3.8.3"
  }
 },
 "nbformat": 4,
 "nbformat_minor": 5
}
